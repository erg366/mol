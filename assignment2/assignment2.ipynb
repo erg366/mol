{
 "cells": [
  {
   "cell_type": "markdown",
   "metadata": {},
   "source": [
    "# Emma Grimm, Assignment 2"
   ]
  },
  {
   "cell_type": "markdown",
   "metadata": {},
   "source": [
    "creating computational concrete poetry"
   ]
  },
  {
   "cell_type": "code",
   "execution_count": 1,
   "metadata": {},
   "outputs": [],
   "source": [
    "import random\n",
    "import math"
   ]
  },
  {
   "cell_type": "markdown",
   "metadata": {},
   "source": [
    "# Part One: Infinite Waves of Being"
   ]
  },
  {
   "cell_type": "markdown",
   "metadata": {},
   "source": [
    "We have been talking a lot about the purpose and effect of translation in the course so far. For the first bit of experimentation with concrete poetry, I wanted to use both English and German, my mother tongue, because I find that there are a lot of words that sound or even look the same in both languages, but have vastly different meanings."
   ]
  },
  {
   "cell_type": "markdown",
   "metadata": {},
   "source": [
    "When going through the code for recreating *top spin*, I especially liked the look of words or letters positioned along a sine wave. Sine sounds like the German word \"sein\" (though perhaps spoken in dialect). \"Sein\" can be used to mean the possessive terms \"his\" or \"its\", but it is also the infinitive form of \"to be\". The *sein wave*, shown below, becomes a visualization of infinite being. Though the grammatical infinitive is of course not quite the same thing as the concept of infinity, the lack of a temporal marker / suggestion of continuity implies no start or end, just as the sine wave continues forever in both directions."
   ]
  },
  {
   "cell_type": "code",
   "execution_count": 2,
   "metadata": {},
   "outputs": [],
   "source": [
    "from IPython.display import display, HTML\n",
    "def show_html(src):\n",
    "    return display(HTML(src), metadata=dict(isolated=True))"
   ]
  },
  {
   "cell_type": "code",
   "execution_count": 3,
   "metadata": {},
   "outputs": [],
   "source": [
    "import math\n",
    "def sinerange(n, steps=10):\n",
    "    for i in range(steps):\n",
    "        theta = (math.tau / steps) * i\n",
    "        yield int(n/2 * (-1*math.cos(theta))) + int(n/2)"
   ]
  },
  {
   "cell_type": "code",
   "execution_count": 4,
   "metadata": {},
   "outputs": [],
   "source": [
    "html_tmpl = \"\"\"<!DOCTYPE html>\n",
    "<html lang=\"en\">\n",
    "<head>\n",
    "    <meta charset=\"utf-8\">\n",
    "    <title>{title}</title>\n",
    "    <style>\n",
    "    html {{ min-height: 32em; overflow: hidden; }}\n",
    "    </style>\n",
    "</head>\n",
    "<body>\n",
    "{content}\n",
    "</body>\n",
    "</html>\"\"\""
   ]
  },
  {
   "cell_type": "code",
   "execution_count": 5,
   "metadata": {},
   "outputs": [],
   "source": [
    "sinelist = []\n",
    "\n",
    "for i in range(5):\n",
    "    sinelist.extend(list(sinerange(20,steps=30)))"
   ]
  },
  {
   "cell_type": "code",
   "execution_count": 6,
   "metadata": {},
   "outputs": [],
   "source": [
    "divs = []\n",
    "\n",
    "for i in range(len(sinelist)):\n",
    "    x = i\n",
    "    y = sinelist[i]\n",
    "    this_div = f\"<div style='position: absolute; left: {x-20}%; top: {y}%;'>sein</div>\"\n",
    "    divs.append(this_div)\n",
    "    \n",
    "for i in range(len(sinelist)):\n",
    "    x = i\n",
    "    y = sinelist[i]\n",
    "    this_div = f\"<div style='position: absolute; left: {x-10}%; top: {y+30}%;'>sein</div>\"\n",
    "    divs.append(this_div)\n",
    "\n",
    "for i in range(len(sinelist)):\n",
    "    x = i\n",
    "    y = sinelist[i]\n",
    "    this_div = f\"<div style='position: absolute; left: {x-30}%; top: {y+60}%;'>sein</div>\"\n",
    "    divs.append(this_div)\n",
    "\n",
    "html_src = html_tmpl.format(title=\"sein wave\", content=\"\".join(divs))"
   ]
  },
  {
   "cell_type": "code",
   "execution_count": 7,
   "metadata": {},
   "outputs": [
    {
     "data": {
      "text/html": [
       "<!DOCTYPE html>\n",
       "<html lang=\"en\">\n",
       "<head>\n",
       "    <meta charset=\"utf-8\">\n",
       "    <title>sein wave</title>\n",
       "    <style>\n",
       "    html { min-height: 32em; overflow: hidden; }\n",
       "    </style>\n",
       "</head>\n",
       "<body>\n",
       "<div style='position: absolute; left: -20%; top: 0%;'>sein</div><div style='position: absolute; left: -19%; top: 1%;'>sein</div><div style='position: absolute; left: -18%; top: 1%;'>sein</div><div style='position: absolute; left: -17%; top: 2%;'>sein</div><div style='position: absolute; left: -16%; top: 4%;'>sein</div><div style='position: absolute; left: -15%; top: 5%;'>sein</div><div style='position: absolute; left: -14%; top: 7%;'>sein</div><div style='position: absolute; left: -13%; top: 9%;'>sein</div><div style='position: absolute; left: -12%; top: 11%;'>sein</div><div style='position: absolute; left: -11%; top: 13%;'>sein</div><div style='position: absolute; left: -10%; top: 14%;'>sein</div><div style='position: absolute; left: -9%; top: 16%;'>sein</div><div style='position: absolute; left: -8%; top: 18%;'>sein</div><div style='position: absolute; left: -7%; top: 19%;'>sein</div><div style='position: absolute; left: -6%; top: 19%;'>sein</div><div style='position: absolute; left: -5%; top: 20%;'>sein</div><div style='position: absolute; left: -4%; top: 19%;'>sein</div><div style='position: absolute; left: -3%; top: 19%;'>sein</div><div style='position: absolute; left: -2%; top: 18%;'>sein</div><div style='position: absolute; left: -1%; top: 16%;'>sein</div><div style='position: absolute; left: 0%; top: 15%;'>sein</div><div style='position: absolute; left: 1%; top: 13%;'>sein</div><div style='position: absolute; left: 2%; top: 11%;'>sein</div><div style='position: absolute; left: 3%; top: 9%;'>sein</div><div style='position: absolute; left: 4%; top: 7%;'>sein</div><div style='position: absolute; left: 5%; top: 6%;'>sein</div><div style='position: absolute; left: 6%; top: 4%;'>sein</div><div style='position: absolute; left: 7%; top: 2%;'>sein</div><div style='position: absolute; left: 8%; top: 1%;'>sein</div><div style='position: absolute; left: 9%; top: 1%;'>sein</div><div style='position: absolute; left: 10%; top: 0%;'>sein</div><div style='position: absolute; left: 11%; top: 1%;'>sein</div><div style='position: absolute; left: 12%; top: 1%;'>sein</div><div style='position: absolute; left: 13%; top: 2%;'>sein</div><div style='position: absolute; left: 14%; top: 4%;'>sein</div><div style='position: absolute; left: 15%; top: 5%;'>sein</div><div style='position: absolute; left: 16%; top: 7%;'>sein</div><div style='position: absolute; left: 17%; top: 9%;'>sein</div><div style='position: absolute; left: 18%; top: 11%;'>sein</div><div style='position: absolute; left: 19%; top: 13%;'>sein</div><div style='position: absolute; left: 20%; top: 14%;'>sein</div><div style='position: absolute; left: 21%; top: 16%;'>sein</div><div style='position: absolute; left: 22%; top: 18%;'>sein</div><div style='position: absolute; left: 23%; top: 19%;'>sein</div><div style='position: absolute; left: 24%; top: 19%;'>sein</div><div style='position: absolute; left: 25%; top: 20%;'>sein</div><div style='position: absolute; left: 26%; top: 19%;'>sein</div><div style='position: absolute; left: 27%; top: 19%;'>sein</div><div style='position: absolute; left: 28%; top: 18%;'>sein</div><div style='position: absolute; left: 29%; top: 16%;'>sein</div><div style='position: absolute; left: 30%; top: 15%;'>sein</div><div style='position: absolute; left: 31%; top: 13%;'>sein</div><div style='position: absolute; left: 32%; top: 11%;'>sein</div><div style='position: absolute; left: 33%; top: 9%;'>sein</div><div style='position: absolute; left: 34%; top: 7%;'>sein</div><div style='position: absolute; left: 35%; top: 6%;'>sein</div><div style='position: absolute; left: 36%; top: 4%;'>sein</div><div style='position: absolute; left: 37%; top: 2%;'>sein</div><div style='position: absolute; left: 38%; top: 1%;'>sein</div><div style='position: absolute; left: 39%; top: 1%;'>sein</div><div style='position: absolute; left: 40%; top: 0%;'>sein</div><div style='position: absolute; left: 41%; top: 1%;'>sein</div><div style='position: absolute; left: 42%; top: 1%;'>sein</div><div style='position: absolute; left: 43%; top: 2%;'>sein</div><div style='position: absolute; left: 44%; top: 4%;'>sein</div><div style='position: absolute; left: 45%; top: 5%;'>sein</div><div style='position: absolute; left: 46%; top: 7%;'>sein</div><div style='position: absolute; left: 47%; top: 9%;'>sein</div><div style='position: absolute; left: 48%; top: 11%;'>sein</div><div style='position: absolute; left: 49%; top: 13%;'>sein</div><div style='position: absolute; left: 50%; top: 14%;'>sein</div><div style='position: absolute; left: 51%; top: 16%;'>sein</div><div style='position: absolute; left: 52%; top: 18%;'>sein</div><div style='position: absolute; left: 53%; top: 19%;'>sein</div><div style='position: absolute; left: 54%; top: 19%;'>sein</div><div style='position: absolute; left: 55%; top: 20%;'>sein</div><div style='position: absolute; left: 56%; top: 19%;'>sein</div><div style='position: absolute; left: 57%; top: 19%;'>sein</div><div style='position: absolute; left: 58%; top: 18%;'>sein</div><div style='position: absolute; left: 59%; top: 16%;'>sein</div><div style='position: absolute; left: 60%; top: 15%;'>sein</div><div style='position: absolute; left: 61%; top: 13%;'>sein</div><div style='position: absolute; left: 62%; top: 11%;'>sein</div><div style='position: absolute; left: 63%; top: 9%;'>sein</div><div style='position: absolute; left: 64%; top: 7%;'>sein</div><div style='position: absolute; left: 65%; top: 6%;'>sein</div><div style='position: absolute; left: 66%; top: 4%;'>sein</div><div style='position: absolute; left: 67%; top: 2%;'>sein</div><div style='position: absolute; left: 68%; top: 1%;'>sein</div><div style='position: absolute; left: 69%; top: 1%;'>sein</div><div style='position: absolute; left: 70%; top: 0%;'>sein</div><div style='position: absolute; left: 71%; top: 1%;'>sein</div><div style='position: absolute; left: 72%; top: 1%;'>sein</div><div style='position: absolute; left: 73%; top: 2%;'>sein</div><div style='position: absolute; left: 74%; top: 4%;'>sein</div><div style='position: absolute; left: 75%; top: 5%;'>sein</div><div style='position: absolute; left: 76%; top: 7%;'>sein</div><div style='position: absolute; left: 77%; top: 9%;'>sein</div><div style='position: absolute; left: 78%; top: 11%;'>sein</div><div style='position: absolute; left: 79%; top: 13%;'>sein</div><div style='position: absolute; left: 80%; top: 14%;'>sein</div><div style='position: absolute; left: 81%; top: 16%;'>sein</div><div style='position: absolute; left: 82%; top: 18%;'>sein</div><div style='position: absolute; left: 83%; top: 19%;'>sein</div><div style='position: absolute; left: 84%; top: 19%;'>sein</div><div style='position: absolute; left: 85%; top: 20%;'>sein</div><div style='position: absolute; left: 86%; top: 19%;'>sein</div><div style='position: absolute; left: 87%; top: 19%;'>sein</div><div style='position: absolute; left: 88%; top: 18%;'>sein</div><div style='position: absolute; left: 89%; top: 16%;'>sein</div><div style='position: absolute; left: 90%; top: 15%;'>sein</div><div style='position: absolute; left: 91%; top: 13%;'>sein</div><div style='position: absolute; left: 92%; top: 11%;'>sein</div><div style='position: absolute; left: 93%; top: 9%;'>sein</div><div style='position: absolute; left: 94%; top: 7%;'>sein</div><div style='position: absolute; left: 95%; top: 6%;'>sein</div><div style='position: absolute; left: 96%; top: 4%;'>sein</div><div style='position: absolute; left: 97%; top: 2%;'>sein</div><div style='position: absolute; left: 98%; top: 1%;'>sein</div><div style='position: absolute; left: 99%; top: 1%;'>sein</div><div style='position: absolute; left: 100%; top: 0%;'>sein</div><div style='position: absolute; left: 101%; top: 1%;'>sein</div><div style='position: absolute; left: 102%; top: 1%;'>sein</div><div style='position: absolute; left: 103%; top: 2%;'>sein</div><div style='position: absolute; left: 104%; top: 4%;'>sein</div><div style='position: absolute; left: 105%; top: 5%;'>sein</div><div style='position: absolute; left: 106%; top: 7%;'>sein</div><div style='position: absolute; left: 107%; top: 9%;'>sein</div><div style='position: absolute; left: 108%; top: 11%;'>sein</div><div style='position: absolute; left: 109%; top: 13%;'>sein</div><div style='position: absolute; left: 110%; top: 14%;'>sein</div><div style='position: absolute; left: 111%; top: 16%;'>sein</div><div style='position: absolute; left: 112%; top: 18%;'>sein</div><div style='position: absolute; left: 113%; top: 19%;'>sein</div><div style='position: absolute; left: 114%; top: 19%;'>sein</div><div style='position: absolute; left: 115%; top: 20%;'>sein</div><div style='position: absolute; left: 116%; top: 19%;'>sein</div><div style='position: absolute; left: 117%; top: 19%;'>sein</div><div style='position: absolute; left: 118%; top: 18%;'>sein</div><div style='position: absolute; left: 119%; top: 16%;'>sein</div><div style='position: absolute; left: 120%; top: 15%;'>sein</div><div style='position: absolute; left: 121%; top: 13%;'>sein</div><div style='position: absolute; left: 122%; top: 11%;'>sein</div><div style='position: absolute; left: 123%; top: 9%;'>sein</div><div style='position: absolute; left: 124%; top: 7%;'>sein</div><div style='position: absolute; left: 125%; top: 6%;'>sein</div><div style='position: absolute; left: 126%; top: 4%;'>sein</div><div style='position: absolute; left: 127%; top: 2%;'>sein</div><div style='position: absolute; left: 128%; top: 1%;'>sein</div><div style='position: absolute; left: 129%; top: 1%;'>sein</div><div style='position: absolute; left: -10%; top: 30%;'>sein</div><div style='position: absolute; left: -9%; top: 31%;'>sein</div><div style='position: absolute; left: -8%; top: 31%;'>sein</div><div style='position: absolute; left: -7%; top: 32%;'>sein</div><div style='position: absolute; left: -6%; top: 34%;'>sein</div><div style='position: absolute; left: -5%; top: 35%;'>sein</div><div style='position: absolute; left: -4%; top: 37%;'>sein</div><div style='position: absolute; left: -3%; top: 39%;'>sein</div><div style='position: absolute; left: -2%; top: 41%;'>sein</div><div style='position: absolute; left: -1%; top: 43%;'>sein</div><div style='position: absolute; left: 0%; top: 44%;'>sein</div><div style='position: absolute; left: 1%; top: 46%;'>sein</div><div style='position: absolute; left: 2%; top: 48%;'>sein</div><div style='position: absolute; left: 3%; top: 49%;'>sein</div><div style='position: absolute; left: 4%; top: 49%;'>sein</div><div style='position: absolute; left: 5%; top: 50%;'>sein</div><div style='position: absolute; left: 6%; top: 49%;'>sein</div><div style='position: absolute; left: 7%; top: 49%;'>sein</div><div style='position: absolute; left: 8%; top: 48%;'>sein</div><div style='position: absolute; left: 9%; top: 46%;'>sein</div><div style='position: absolute; left: 10%; top: 45%;'>sein</div><div style='position: absolute; left: 11%; top: 43%;'>sein</div><div style='position: absolute; left: 12%; top: 41%;'>sein</div><div style='position: absolute; left: 13%; top: 39%;'>sein</div><div style='position: absolute; left: 14%; top: 37%;'>sein</div><div style='position: absolute; left: 15%; top: 36%;'>sein</div><div style='position: absolute; left: 16%; top: 34%;'>sein</div><div style='position: absolute; left: 17%; top: 32%;'>sein</div><div style='position: absolute; left: 18%; top: 31%;'>sein</div><div style='position: absolute; left: 19%; top: 31%;'>sein</div><div style='position: absolute; left: 20%; top: 30%;'>sein</div><div style='position: absolute; left: 21%; top: 31%;'>sein</div><div style='position: absolute; left: 22%; top: 31%;'>sein</div><div style='position: absolute; left: 23%; top: 32%;'>sein</div><div style='position: absolute; left: 24%; top: 34%;'>sein</div><div style='position: absolute; left: 25%; top: 35%;'>sein</div><div style='position: absolute; left: 26%; top: 37%;'>sein</div><div style='position: absolute; left: 27%; top: 39%;'>sein</div><div style='position: absolute; left: 28%; top: 41%;'>sein</div><div style='position: absolute; left: 29%; top: 43%;'>sein</div><div style='position: absolute; left: 30%; top: 44%;'>sein</div><div style='position: absolute; left: 31%; top: 46%;'>sein</div><div style='position: absolute; left: 32%; top: 48%;'>sein</div><div style='position: absolute; left: 33%; top: 49%;'>sein</div><div style='position: absolute; left: 34%; top: 49%;'>sein</div><div style='position: absolute; left: 35%; top: 50%;'>sein</div><div style='position: absolute; left: 36%; top: 49%;'>sein</div><div style='position: absolute; left: 37%; top: 49%;'>sein</div><div style='position: absolute; left: 38%; top: 48%;'>sein</div><div style='position: absolute; left: 39%; top: 46%;'>sein</div><div style='position: absolute; left: 40%; top: 45%;'>sein</div><div style='position: absolute; left: 41%; top: 43%;'>sein</div><div style='position: absolute; left: 42%; top: 41%;'>sein</div><div style='position: absolute; left: 43%; top: 39%;'>sein</div><div style='position: absolute; left: 44%; top: 37%;'>sein</div><div style='position: absolute; left: 45%; top: 36%;'>sein</div><div style='position: absolute; left: 46%; top: 34%;'>sein</div><div style='position: absolute; left: 47%; top: 32%;'>sein</div><div style='position: absolute; left: 48%; top: 31%;'>sein</div><div style='position: absolute; left: 49%; top: 31%;'>sein</div><div style='position: absolute; left: 50%; top: 30%;'>sein</div><div style='position: absolute; left: 51%; top: 31%;'>sein</div><div style='position: absolute; left: 52%; top: 31%;'>sein</div><div style='position: absolute; left: 53%; top: 32%;'>sein</div><div style='position: absolute; left: 54%; top: 34%;'>sein</div><div style='position: absolute; left: 55%; top: 35%;'>sein</div><div style='position: absolute; left: 56%; top: 37%;'>sein</div><div style='position: absolute; left: 57%; top: 39%;'>sein</div><div style='position: absolute; left: 58%; top: 41%;'>sein</div><div style='position: absolute; left: 59%; top: 43%;'>sein</div><div style='position: absolute; left: 60%; top: 44%;'>sein</div><div style='position: absolute; left: 61%; top: 46%;'>sein</div><div style='position: absolute; left: 62%; top: 48%;'>sein</div><div style='position: absolute; left: 63%; top: 49%;'>sein</div><div style='position: absolute; left: 64%; top: 49%;'>sein</div><div style='position: absolute; left: 65%; top: 50%;'>sein</div><div style='position: absolute; left: 66%; top: 49%;'>sein</div><div style='position: absolute; left: 67%; top: 49%;'>sein</div><div style='position: absolute; left: 68%; top: 48%;'>sein</div><div style='position: absolute; left: 69%; top: 46%;'>sein</div><div style='position: absolute; left: 70%; top: 45%;'>sein</div><div style='position: absolute; left: 71%; top: 43%;'>sein</div><div style='position: absolute; left: 72%; top: 41%;'>sein</div><div style='position: absolute; left: 73%; top: 39%;'>sein</div><div style='position: absolute; left: 74%; top: 37%;'>sein</div><div style='position: absolute; left: 75%; top: 36%;'>sein</div><div style='position: absolute; left: 76%; top: 34%;'>sein</div><div style='position: absolute; left: 77%; top: 32%;'>sein</div><div style='position: absolute; left: 78%; top: 31%;'>sein</div><div style='position: absolute; left: 79%; top: 31%;'>sein</div><div style='position: absolute; left: 80%; top: 30%;'>sein</div><div style='position: absolute; left: 81%; top: 31%;'>sein</div><div style='position: absolute; left: 82%; top: 31%;'>sein</div><div style='position: absolute; left: 83%; top: 32%;'>sein</div><div style='position: absolute; left: 84%; top: 34%;'>sein</div><div style='position: absolute; left: 85%; top: 35%;'>sein</div><div style='position: absolute; left: 86%; top: 37%;'>sein</div><div style='position: absolute; left: 87%; top: 39%;'>sein</div><div style='position: absolute; left: 88%; top: 41%;'>sein</div><div style='position: absolute; left: 89%; top: 43%;'>sein</div><div style='position: absolute; left: 90%; top: 44%;'>sein</div><div style='position: absolute; left: 91%; top: 46%;'>sein</div><div style='position: absolute; left: 92%; top: 48%;'>sein</div><div style='position: absolute; left: 93%; top: 49%;'>sein</div><div style='position: absolute; left: 94%; top: 49%;'>sein</div><div style='position: absolute; left: 95%; top: 50%;'>sein</div><div style='position: absolute; left: 96%; top: 49%;'>sein</div><div style='position: absolute; left: 97%; top: 49%;'>sein</div><div style='position: absolute; left: 98%; top: 48%;'>sein</div><div style='position: absolute; left: 99%; top: 46%;'>sein</div><div style='position: absolute; left: 100%; top: 45%;'>sein</div><div style='position: absolute; left: 101%; top: 43%;'>sein</div><div style='position: absolute; left: 102%; top: 41%;'>sein</div><div style='position: absolute; left: 103%; top: 39%;'>sein</div><div style='position: absolute; left: 104%; top: 37%;'>sein</div><div style='position: absolute; left: 105%; top: 36%;'>sein</div><div style='position: absolute; left: 106%; top: 34%;'>sein</div><div style='position: absolute; left: 107%; top: 32%;'>sein</div><div style='position: absolute; left: 108%; top: 31%;'>sein</div><div style='position: absolute; left: 109%; top: 31%;'>sein</div><div style='position: absolute; left: 110%; top: 30%;'>sein</div><div style='position: absolute; left: 111%; top: 31%;'>sein</div><div style='position: absolute; left: 112%; top: 31%;'>sein</div><div style='position: absolute; left: 113%; top: 32%;'>sein</div><div style='position: absolute; left: 114%; top: 34%;'>sein</div><div style='position: absolute; left: 115%; top: 35%;'>sein</div><div style='position: absolute; left: 116%; top: 37%;'>sein</div><div style='position: absolute; left: 117%; top: 39%;'>sein</div><div style='position: absolute; left: 118%; top: 41%;'>sein</div><div style='position: absolute; left: 119%; top: 43%;'>sein</div><div style='position: absolute; left: 120%; top: 44%;'>sein</div><div style='position: absolute; left: 121%; top: 46%;'>sein</div><div style='position: absolute; left: 122%; top: 48%;'>sein</div><div style='position: absolute; left: 123%; top: 49%;'>sein</div><div style='position: absolute; left: 124%; top: 49%;'>sein</div><div style='position: absolute; left: 125%; top: 50%;'>sein</div><div style='position: absolute; left: 126%; top: 49%;'>sein</div><div style='position: absolute; left: 127%; top: 49%;'>sein</div><div style='position: absolute; left: 128%; top: 48%;'>sein</div><div style='position: absolute; left: 129%; top: 46%;'>sein</div><div style='position: absolute; left: 130%; top: 45%;'>sein</div><div style='position: absolute; left: 131%; top: 43%;'>sein</div><div style='position: absolute; left: 132%; top: 41%;'>sein</div><div style='position: absolute; left: 133%; top: 39%;'>sein</div><div style='position: absolute; left: 134%; top: 37%;'>sein</div><div style='position: absolute; left: 135%; top: 36%;'>sein</div><div style='position: absolute; left: 136%; top: 34%;'>sein</div><div style='position: absolute; left: 137%; top: 32%;'>sein</div><div style='position: absolute; left: 138%; top: 31%;'>sein</div><div style='position: absolute; left: 139%; top: 31%;'>sein</div><div style='position: absolute; left: -30%; top: 60%;'>sein</div><div style='position: absolute; left: -29%; top: 61%;'>sein</div><div style='position: absolute; left: -28%; top: 61%;'>sein</div><div style='position: absolute; left: -27%; top: 62%;'>sein</div><div style='position: absolute; left: -26%; top: 64%;'>sein</div><div style='position: absolute; left: -25%; top: 65%;'>sein</div><div style='position: absolute; left: -24%; top: 67%;'>sein</div><div style='position: absolute; left: -23%; top: 69%;'>sein</div><div style='position: absolute; left: -22%; top: 71%;'>sein</div><div style='position: absolute; left: -21%; top: 73%;'>sein</div><div style='position: absolute; left: -20%; top: 74%;'>sein</div><div style='position: absolute; left: -19%; top: 76%;'>sein</div><div style='position: absolute; left: -18%; top: 78%;'>sein</div><div style='position: absolute; left: -17%; top: 79%;'>sein</div><div style='position: absolute; left: -16%; top: 79%;'>sein</div><div style='position: absolute; left: -15%; top: 80%;'>sein</div><div style='position: absolute; left: -14%; top: 79%;'>sein</div><div style='position: absolute; left: -13%; top: 79%;'>sein</div><div style='position: absolute; left: -12%; top: 78%;'>sein</div><div style='position: absolute; left: -11%; top: 76%;'>sein</div><div style='position: absolute; left: -10%; top: 75%;'>sein</div><div style='position: absolute; left: -9%; top: 73%;'>sein</div><div style='position: absolute; left: -8%; top: 71%;'>sein</div><div style='position: absolute; left: -7%; top: 69%;'>sein</div><div style='position: absolute; left: -6%; top: 67%;'>sein</div><div style='position: absolute; left: -5%; top: 66%;'>sein</div><div style='position: absolute; left: -4%; top: 64%;'>sein</div><div style='position: absolute; left: -3%; top: 62%;'>sein</div><div style='position: absolute; left: -2%; top: 61%;'>sein</div><div style='position: absolute; left: -1%; top: 61%;'>sein</div><div style='position: absolute; left: 0%; top: 60%;'>sein</div><div style='position: absolute; left: 1%; top: 61%;'>sein</div><div style='position: absolute; left: 2%; top: 61%;'>sein</div><div style='position: absolute; left: 3%; top: 62%;'>sein</div><div style='position: absolute; left: 4%; top: 64%;'>sein</div><div style='position: absolute; left: 5%; top: 65%;'>sein</div><div style='position: absolute; left: 6%; top: 67%;'>sein</div><div style='position: absolute; left: 7%; top: 69%;'>sein</div><div style='position: absolute; left: 8%; top: 71%;'>sein</div><div style='position: absolute; left: 9%; top: 73%;'>sein</div><div style='position: absolute; left: 10%; top: 74%;'>sein</div><div style='position: absolute; left: 11%; top: 76%;'>sein</div><div style='position: absolute; left: 12%; top: 78%;'>sein</div><div style='position: absolute; left: 13%; top: 79%;'>sein</div><div style='position: absolute; left: 14%; top: 79%;'>sein</div><div style='position: absolute; left: 15%; top: 80%;'>sein</div><div style='position: absolute; left: 16%; top: 79%;'>sein</div><div style='position: absolute; left: 17%; top: 79%;'>sein</div><div style='position: absolute; left: 18%; top: 78%;'>sein</div><div style='position: absolute; left: 19%; top: 76%;'>sein</div><div style='position: absolute; left: 20%; top: 75%;'>sein</div><div style='position: absolute; left: 21%; top: 73%;'>sein</div><div style='position: absolute; left: 22%; top: 71%;'>sein</div><div style='position: absolute; left: 23%; top: 69%;'>sein</div><div style='position: absolute; left: 24%; top: 67%;'>sein</div><div style='position: absolute; left: 25%; top: 66%;'>sein</div><div style='position: absolute; left: 26%; top: 64%;'>sein</div><div style='position: absolute; left: 27%; top: 62%;'>sein</div><div style='position: absolute; left: 28%; top: 61%;'>sein</div><div style='position: absolute; left: 29%; top: 61%;'>sein</div><div style='position: absolute; left: 30%; top: 60%;'>sein</div><div style='position: absolute; left: 31%; top: 61%;'>sein</div><div style='position: absolute; left: 32%; top: 61%;'>sein</div><div style='position: absolute; left: 33%; top: 62%;'>sein</div><div style='position: absolute; left: 34%; top: 64%;'>sein</div><div style='position: absolute; left: 35%; top: 65%;'>sein</div><div style='position: absolute; left: 36%; top: 67%;'>sein</div><div style='position: absolute; left: 37%; top: 69%;'>sein</div><div style='position: absolute; left: 38%; top: 71%;'>sein</div><div style='position: absolute; left: 39%; top: 73%;'>sein</div><div style='position: absolute; left: 40%; top: 74%;'>sein</div><div style='position: absolute; left: 41%; top: 76%;'>sein</div><div style='position: absolute; left: 42%; top: 78%;'>sein</div><div style='position: absolute; left: 43%; top: 79%;'>sein</div><div style='position: absolute; left: 44%; top: 79%;'>sein</div><div style='position: absolute; left: 45%; top: 80%;'>sein</div><div style='position: absolute; left: 46%; top: 79%;'>sein</div><div style='position: absolute; left: 47%; top: 79%;'>sein</div><div style='position: absolute; left: 48%; top: 78%;'>sein</div><div style='position: absolute; left: 49%; top: 76%;'>sein</div><div style='position: absolute; left: 50%; top: 75%;'>sein</div><div style='position: absolute; left: 51%; top: 73%;'>sein</div><div style='position: absolute; left: 52%; top: 71%;'>sein</div><div style='position: absolute; left: 53%; top: 69%;'>sein</div><div style='position: absolute; left: 54%; top: 67%;'>sein</div><div style='position: absolute; left: 55%; top: 66%;'>sein</div><div style='position: absolute; left: 56%; top: 64%;'>sein</div><div style='position: absolute; left: 57%; top: 62%;'>sein</div><div style='position: absolute; left: 58%; top: 61%;'>sein</div><div style='position: absolute; left: 59%; top: 61%;'>sein</div><div style='position: absolute; left: 60%; top: 60%;'>sein</div><div style='position: absolute; left: 61%; top: 61%;'>sein</div><div style='position: absolute; left: 62%; top: 61%;'>sein</div><div style='position: absolute; left: 63%; top: 62%;'>sein</div><div style='position: absolute; left: 64%; top: 64%;'>sein</div><div style='position: absolute; left: 65%; top: 65%;'>sein</div><div style='position: absolute; left: 66%; top: 67%;'>sein</div><div style='position: absolute; left: 67%; top: 69%;'>sein</div><div style='position: absolute; left: 68%; top: 71%;'>sein</div><div style='position: absolute; left: 69%; top: 73%;'>sein</div><div style='position: absolute; left: 70%; top: 74%;'>sein</div><div style='position: absolute; left: 71%; top: 76%;'>sein</div><div style='position: absolute; left: 72%; top: 78%;'>sein</div><div style='position: absolute; left: 73%; top: 79%;'>sein</div><div style='position: absolute; left: 74%; top: 79%;'>sein</div><div style='position: absolute; left: 75%; top: 80%;'>sein</div><div style='position: absolute; left: 76%; top: 79%;'>sein</div><div style='position: absolute; left: 77%; top: 79%;'>sein</div><div style='position: absolute; left: 78%; top: 78%;'>sein</div><div style='position: absolute; left: 79%; top: 76%;'>sein</div><div style='position: absolute; left: 80%; top: 75%;'>sein</div><div style='position: absolute; left: 81%; top: 73%;'>sein</div><div style='position: absolute; left: 82%; top: 71%;'>sein</div><div style='position: absolute; left: 83%; top: 69%;'>sein</div><div style='position: absolute; left: 84%; top: 67%;'>sein</div><div style='position: absolute; left: 85%; top: 66%;'>sein</div><div style='position: absolute; left: 86%; top: 64%;'>sein</div><div style='position: absolute; left: 87%; top: 62%;'>sein</div><div style='position: absolute; left: 88%; top: 61%;'>sein</div><div style='position: absolute; left: 89%; top: 61%;'>sein</div><div style='position: absolute; left: 90%; top: 60%;'>sein</div><div style='position: absolute; left: 91%; top: 61%;'>sein</div><div style='position: absolute; left: 92%; top: 61%;'>sein</div><div style='position: absolute; left: 93%; top: 62%;'>sein</div><div style='position: absolute; left: 94%; top: 64%;'>sein</div><div style='position: absolute; left: 95%; top: 65%;'>sein</div><div style='position: absolute; left: 96%; top: 67%;'>sein</div><div style='position: absolute; left: 97%; top: 69%;'>sein</div><div style='position: absolute; left: 98%; top: 71%;'>sein</div><div style='position: absolute; left: 99%; top: 73%;'>sein</div><div style='position: absolute; left: 100%; top: 74%;'>sein</div><div style='position: absolute; left: 101%; top: 76%;'>sein</div><div style='position: absolute; left: 102%; top: 78%;'>sein</div><div style='position: absolute; left: 103%; top: 79%;'>sein</div><div style='position: absolute; left: 104%; top: 79%;'>sein</div><div style='position: absolute; left: 105%; top: 80%;'>sein</div><div style='position: absolute; left: 106%; top: 79%;'>sein</div><div style='position: absolute; left: 107%; top: 79%;'>sein</div><div style='position: absolute; left: 108%; top: 78%;'>sein</div><div style='position: absolute; left: 109%; top: 76%;'>sein</div><div style='position: absolute; left: 110%; top: 75%;'>sein</div><div style='position: absolute; left: 111%; top: 73%;'>sein</div><div style='position: absolute; left: 112%; top: 71%;'>sein</div><div style='position: absolute; left: 113%; top: 69%;'>sein</div><div style='position: absolute; left: 114%; top: 67%;'>sein</div><div style='position: absolute; left: 115%; top: 66%;'>sein</div><div style='position: absolute; left: 116%; top: 64%;'>sein</div><div style='position: absolute; left: 117%; top: 62%;'>sein</div><div style='position: absolute; left: 118%; top: 61%;'>sein</div><div style='position: absolute; left: 119%; top: 61%;'>sein</div>\n",
       "</body>\n",
       "</html>"
      ],
      "text/plain": [
       "<IPython.core.display.HTML object>"
      ]
     },
     "metadata": {
      "isolated": true
     },
     "output_type": "display_data"
    }
   ],
   "source": [
    "show_html(html_src)"
   ]
  },
  {
   "cell_type": "markdown",
   "metadata": {},
   "source": [
    "I ended up displaying the wave multiple times on the page, slightly misaligned, because I prefer the way it looks as a whole. We could take this to signify different waves of being that, moving in canon, are never quite the same at any moment in time. I don't really love that interpretation, I actually prefer the simplicity in meaning of the initial piece that I made, which was just a single wave, but this version ended up winning just because I find it to be visually more appealing."
   ]
  },
  {
   "cell_type": "markdown",
   "metadata": {},
   "source": [
    "# Part Two: From *Wide Sargasso Sea*"
   ]
  },
  {
   "cell_type": "markdown",
   "metadata": {},
   "source": [
    "For my second composition, I used a quote from Jean Rhys' novel *Wide Sargasso Sea* that I like a lot: \"There are large blanks in my mind which can never be filled up.\""
   ]
  },
  {
   "cell_type": "code",
   "execution_count": 8,
   "metadata": {},
   "outputs": [],
   "source": [
    "def mkdiv(content, **kwargs):\n",
    "    if 'position' not in kwargs:\n",
    "        kwargs['position'] = 'absolute'\n",
    "    style_str = ' '.join([\": \".join((k.replace('_', '-'), v))+\";\" for k, v in kwargs.items()])\n",
    "    return f\"<div style='{style_str}'>{content}</div>\""
   ]
  },
  {
   "cell_type": "code",
   "execution_count": 9,
   "metadata": {},
   "outputs": [],
   "source": [
    "import numpy as np\n",
    "def interp(p1, p2, n=10):\n",
    "    p1 = np.array(p1)\n",
    "    p2 = np.array(p2)\n",
    "    pts = []\n",
    "    for i in range(n):\n",
    "        pt = (p2 * (i/(n-1))) + (p1 * (1-(i/(n-1))))\n",
    "        pts.append(tuple(pt))\n",
    "    return pts"
   ]
  },
  {
   "cell_type": "markdown",
   "metadata": {},
   "source": [
    "At first I tried simply arranging the string into a pentagon with sides of equal length using the *interp* and *mkdiv* functions from the notebook examples. However, I didn't feel like the neat look of equilateral pentagon really represented the feeling of confusion and grief contained in this line."
   ]
  },
  {
   "cell_type": "code",
   "execution_count": 10,
   "metadata": {},
   "outputs": [
    {
     "data": {
      "text/html": [
       "<!DOCTYPE html>\n",
       "<html lang=\"en\">\n",
       "<head>\n",
       "    <meta charset=\"utf-8\">\n",
       "    <title>large blanks</title>\n",
       "    <style>\n",
       "    html { min-height: 32em; overflow: hidden; }\n",
       "    </style>\n",
       "</head>\n",
       "<body>\n",
       "<div style='top: 20.0%; left: 50.0%; font-size: 16pt; font-family: Courier; position: absolute;'>t</div><div style='top: 23.333333333333336%; left: 53.33333333333333%; font-size: 16pt; font-family: Courier; position: absolute;'>h</div><div style='top: 26.666666666666664%; left: 56.66666666666667%; font-size: 16pt; font-family: Courier; position: absolute;'>e</div><div style='top: 30.0%; left: 60.0%; font-size: 16pt; font-family: Courier; position: absolute;'>r</div><div style='top: 33.33333333333333%; left: 63.333333333333336%; font-size: 16pt; font-family: Courier; position: absolute;'>e</div><div style='top: 36.66666666666667%; left: 66.66666666666666%; font-size: 16pt; font-family: Courier; position: absolute;'> </div><div style='top: 40.0%; left: 70.0%; font-size: 16pt; font-family: Courier; position: absolute;'>a</div><div style='top: 43.333333333333336%; left: 73.33333333333333%; font-size: 16pt; font-family: Courier; position: absolute;'>r</div><div style='top: 46.666666666666664%; left: 76.66666666666667%; font-size: 16pt; font-family: Courier; position: absolute;'>e</div><div style='top: 50.0%; left: 80.0%; font-size: 16pt; font-family: Courier; position: absolute;'> </div><div style='top: 50.0%; left: 80.0%; font-size: 16pt; font-family: Courier; position: absolute;'>l</div><div style='top: 52.49999999999999%; left: 79.16666666666666%; font-size: 16pt; font-family: Courier; position: absolute;'>a</div><div style='top: 55.0%; left: 78.33333333333334%; font-size: 16pt; font-family: Courier; position: absolute;'>r</div><div style='top: 57.5%; left: 77.5%; font-size: 16pt; font-family: Courier; position: absolute;'>g</div><div style='top: 60.0%; left: 76.66666666666667%; font-size: 16pt; font-family: Courier; position: absolute;'>e</div><div style='top: 62.5%; left: 75.83333333333333%; font-size: 16pt; font-family: Courier; position: absolute;'> </div><div style='top: 65.0%; left: 75.0%; font-size: 16pt; font-family: Courier; position: absolute;'>b</div><div style='top: 67.5%; left: 74.16666666666666%; font-size: 16pt; font-family: Courier; position: absolute;'>l</div><div style='top: 70.0%; left: 73.33333333333334%; font-size: 16pt; font-family: Courier; position: absolute;'>a</div><div style='top: 72.5%; left: 72.5%; font-size: 16pt; font-family: Courier; position: absolute;'>n</div><div style='top: 75.0%; left: 71.66666666666667%; font-size: 16pt; font-family: Courier; position: absolute;'>k</div><div style='top: 77.5%; left: 70.83333333333333%; font-size: 16pt; font-family: Courier; position: absolute;'>s</div><div style='top: 80.0%; left: 70.0%; font-size: 16pt; font-family: Courier; position: absolute;'> </div><div style='top: 80.0%; left: 70.0%; font-size: 16pt; font-family: Courier; position: absolute;'>i</div><div style='top: 80.0%; left: 66.0%; font-size: 16pt; font-family: Courier; position: absolute;'>n</div><div style='top: 80.0%; left: 62.0%; font-size: 16pt; font-family: Courier; position: absolute;'> </div><div style='top: 80.0%; left: 58.0%; font-size: 16pt; font-family: Courier; position: absolute;'>m</div><div style='top: 80.0%; left: 54.0%; font-size: 16pt; font-family: Courier; position: absolute;'>y</div><div style='top: 80.0%; left: 50.0%; font-size: 16pt; font-family: Courier; position: absolute;'> </div><div style='top: 80.0%; left: 46.0%; font-size: 16pt; font-family: Courier; position: absolute;'>m</div><div style='top: 80.0%; left: 42.0%; font-size: 16pt; font-family: Courier; position: absolute;'>i</div><div style='top: 80.0%; left: 38.0%; font-size: 16pt; font-family: Courier; position: absolute;'>n</div><div style='top: 80.0%; left: 34.0%; font-size: 16pt; font-family: Courier; position: absolute;'>d</div><div style='top: 80.0%; left: 30.0%; font-size: 16pt; font-family: Courier; position: absolute;'> </div><div style='top: 80.0%; left: 30.0%; font-size: 16pt; font-family: Courier; position: absolute;'>w</div><div style='top: 78.0%; left: 29.333333333333332%; font-size: 16pt; font-family: Courier; position: absolute;'>h</div><div style='top: 76.00000000000001%; left: 28.666666666666668%; font-size: 16pt; font-family: Courier; position: absolute;'>i</div><div style='top: 74.0%; left: 28.0%; font-size: 16pt; font-family: Courier; position: absolute;'>c</div><div style='top: 72.0%; left: 27.333333333333332%; font-size: 16pt; font-family: Courier; position: absolute;'>h</div><div style='top: 70.0%; left: 26.66666666666667%; font-size: 16pt; font-family: Courier; position: absolute;'> </div><div style='top: 68.0%; left: 26.0%; font-size: 16pt; font-family: Courier; position: absolute;'>c</div><div style='top: 66.0%; left: 25.333333333333336%; font-size: 16pt; font-family: Courier; position: absolute;'>a</div><div style='top: 64.0%; left: 24.666666666666664%; font-size: 16pt; font-family: Courier; position: absolute;'>n</div><div style='top: 62.0%; left: 24.0%; font-size: 16pt; font-family: Courier; position: absolute;'> </div><div style='top: 60.0%; left: 23.333333333333336%; font-size: 16pt; font-family: Courier; position: absolute;'>n</div><div style='top: 58.0%; left: 22.666666666666668%; font-size: 16pt; font-family: Courier; position: absolute;'>e</div><div style='top: 56.0%; left: 22.0%; font-size: 16pt; font-family: Courier; position: absolute;'>v</div><div style='top: 54.0%; left: 21.333333333333336%; font-size: 16pt; font-family: Courier; position: absolute;'>e</div><div style='top: 52.0%; left: 20.666666666666668%; font-size: 16pt; font-family: Courier; position: absolute;'>r</div><div style='top: 50.0%; left: 20.0%; font-size: 16pt; font-family: Courier; position: absolute;'> </div><div style='top: 50.0%; left: 20.0%; font-size: 16pt; font-family: Courier; position: absolute;'>b</div><div style='top: 47.49999999999999%; left: 22.5%; font-size: 16pt; font-family: Courier; position: absolute;'>e</div><div style='top: 45.00000000000001%; left: 25.0%; font-size: 16pt; font-family: Courier; position: absolute;'> </div><div style='top: 42.5%; left: 27.5%; font-size: 16pt; font-family: Courier; position: absolute;'>f</div><div style='top: 40.0%; left: 30.0%; font-size: 16pt; font-family: Courier; position: absolute;'>i</div><div style='top: 37.5%; left: 32.5%; font-size: 16pt; font-family: Courier; position: absolute;'>l</div><div style='top: 35.0%; left: 35.0%; font-size: 16pt; font-family: Courier; position: absolute;'>l</div><div style='top: 32.5%; left: 37.5%; font-size: 16pt; font-family: Courier; position: absolute;'>e</div><div style='top: 30.0%; left: 40.0%; font-size: 16pt; font-family: Courier; position: absolute;'>d</div><div style='top: 27.5%; left: 42.5%; font-size: 16pt; font-family: Courier; position: absolute;'> </div><div style='top: 25.0%; left: 45.00000000000001%; font-size: 16pt; font-family: Courier; position: absolute;'>u</div><div style='top: 22.5%; left: 47.49999999999999%; font-size: 16pt; font-family: Courier; position: absolute;'>p</div><div style='top: 20.0%; left: 50.0%; font-size: 16pt; font-family: Courier; position: absolute;'> </div>\n",
       "</body>\n",
       "</html>"
      ],
      "text/plain": [
       "<IPython.core.display.HTML object>"
      ]
     },
     "metadata": {
      "isolated": true
     },
     "output_type": "display_data"
    }
   ],
   "source": [
    "divs = []\n",
    "parts = [\"there are \", \"large blanks \", \"in my mind \", \"which can never \", \"be filled up \"]\n",
    "polygon = [(50, 20), (80, 50), (70, 80), (30, 80), (20, 50), (50, 20)]\n",
    "for i in range(len(polygon) - 1):\n",
    "    side_text = parts[i]\n",
    "    pts = interp(polygon[i], polygon[i+1], n=len(side_text))\n",
    "    for j in range(len(pts)):\n",
    "        ch = side_text[j]\n",
    "        pt = pts[j]\n",
    "        this_div = mkdiv(ch,\n",
    "                     top=f\"{pt[1]}%\",\n",
    "                     left=f\"{pt[0]}%\",\n",
    "                     font_size=\"16pt\",\n",
    "                     font_family=\"Courier\")\n",
    "        divs.append(this_div)\n",
    "html_src = html_tmpl.format(title=\"large blanks\", content=\"\".join(divs))\n",
    "show_html(html_src)"
   ]
  },
  {
   "cell_type": "code",
   "execution_count": 11,
   "metadata": {},
   "outputs": [],
   "source": [
    "html_tmpl = \"\"\"<!DOCTYPE html>\n",
    "<html lang=\"en\">\n",
    "<head>\n",
    "    <meta charset=\"utf-8\">\n",
    "    <title>{title}</title>\n",
    "    <link href=\"https://fonts.googleapis.com/css?family=Dawning+of+a+New+Day&display=swap\" rel=\"stylesheet\">\n",
    "    <style>\n",
    "    html {{ min-height: 32em; overflow: hidden; background-color: black; color: white;}}\n",
    "    </style>\n",
    "</head>\n",
    "<body>\n",
    "{content}\n",
    "</body>\n",
    "</html>\"\"\""
   ]
  },
  {
   "cell_type": "code",
   "execution_count": 12,
   "metadata": {},
   "outputs": [
    {
     "data": {
      "text/html": [
       "<!DOCTYPE html>\n",
       "<html lang=\"en\">\n",
       "<head>\n",
       "    <meta charset=\"utf-8\">\n",
       "    <title>large blanks</title>\n",
       "    <link href=\"https://fonts.googleapis.com/css?family=Dawning+of+a+New+Day&display=swap\" rel=\"stylesheet\">\n",
       "    <style>\n",
       "    html { min-height: 32em; overflow: hidden; background-color: black; color: white;}\n",
       "    </style>\n",
       "</head>\n",
       "<body>\n",
       "<div style='top: 5.0%; left: 50.0%; font-size: 16pt; font-family: Dawning of a New Day; position: absolute;'> </div><div style='top: 8.0%; left: 53.0%; font-size: 16pt; font-family: Dawning of a New Day; position: absolute;'>t</div><div style='top: 11.0%; left: 56.0%; font-size: 16pt; font-family: Dawning of a New Day; position: absolute;'>h</div><div style='top: 14.0%; left: 59.0%; font-size: 16pt; font-family: Dawning of a New Day; position: absolute;'>e</div><div style='top: 17.0%; left: 62.0%; font-size: 16pt; font-family: Dawning of a New Day; position: absolute;'>r</div><div style='top: 20.0%; left: 65.0%; font-size: 16pt; font-family: Dawning of a New Day; position: absolute;'>e</div><div style='top: 23.0%; left: 68.0%; font-size: 16pt; font-family: Dawning of a New Day; position: absolute;'> </div><div style='top: 26.0%; left: 71.0%; font-size: 16pt; font-family: Dawning of a New Day; position: absolute;'>a</div><div style='top: 29.0%; left: 74.0%; font-size: 16pt; font-family: Dawning of a New Day; position: absolute;'>r</div><div style='top: 32.0%; left: 77.0%; font-size: 16pt; font-family: Dawning of a New Day; position: absolute;'>e</div><div style='top: 35.0%; left: 80.0%; font-size: 16pt; font-family: Dawning of a New Day; position: absolute;'> </div><div style='top: 35.0%; left: 80.0%; font-size: 16pt; font-family: Dawning of a New Day; position: absolute;'>l</div><div style='top: 39.58333333333333%; left: 79.58333333333333%; font-size: 16pt; font-family: Dawning of a New Day; position: absolute;'>a</div><div style='top: 44.16666666666667%; left: 79.16666666666667%; font-size: 16pt; font-family: Dawning of a New Day; position: absolute;'>r</div><div style='top: 48.75%; left: 78.75%; font-size: 16pt; font-family: Dawning of a New Day; position: absolute;'>g</div><div style='top: 53.333333333333336%; left: 78.33333333333334%; font-size: 16pt; font-family: Dawning of a New Day; position: absolute;'>e</div><div style='top: 57.916666666666664%; left: 77.91666666666666%; font-size: 16pt; font-family: Dawning of a New Day; position: absolute;'> </div><div style='top: 62.5%; left: 77.5%; font-size: 16pt; font-family: Dawning of a New Day; position: absolute;'>b</div><div style='top: 67.08333333333333%; left: 77.08333333333333%; font-size: 16pt; font-family: Dawning of a New Day; position: absolute;'>l</div><div style='top: 71.66666666666667%; left: 76.66666666666667%; font-size: 16pt; font-family: Dawning of a New Day; position: absolute;'>a</div><div style='top: 76.25%; left: 76.25%; font-size: 16pt; font-family: Dawning of a New Day; position: absolute;'>n</div><div style='top: 80.83333333333333%; left: 75.83333333333333%; font-size: 16pt; font-family: Dawning of a New Day; position: absolute;'>k</div><div style='top: 85.41666666666667%; left: 75.41666666666667%; font-size: 16pt; font-family: Dawning of a New Day; position: absolute;'>s</div><div style='top: 90.0%; left: 75.0%; font-size: 16pt; font-family: Dawning of a New Day; position: absolute;'> </div><div style='top: 90.0%; left: 75.0%; font-size: 16pt; font-family: Dawning of a New Day; position: absolute;'> </div><div style='top: 89.0909090909091%; left: 71.81818181818181%; font-size: 16pt; font-family: Dawning of a New Day; position: absolute;'>i</div><div style='top: 88.18181818181817%; left: 68.63636363636363%; font-size: 16pt; font-family: Dawning of a New Day; position: absolute;'>n</div><div style='top: 87.27272727272727%; left: 65.45454545454545%; font-size: 16pt; font-family: Dawning of a New Day; position: absolute;'> </div><div style='top: 86.36363636363637%; left: 62.27272727272727%; font-size: 16pt; font-family: Dawning of a New Day; position: absolute;'>m</div><div style='top: 85.45454545454544%; left: 59.090909090909086%; font-size: 16pt; font-family: Dawning of a New Day; position: absolute;'>y</div><div style='top: 84.54545454545455%; left: 55.90909090909091%; font-size: 16pt; font-family: Dawning of a New Day; position: absolute;'> </div><div style='top: 83.63636363636363%; left: 52.72727272727273%; font-size: 16pt; font-family: Dawning of a New Day; position: absolute;'>m</div><div style='top: 82.72727272727273%; left: 49.54545454545455%; font-size: 16pt; font-family: Dawning of a New Day; position: absolute;'>i</div><div style='top: 81.81818181818181%; left: 46.36363636363636%; font-size: 16pt; font-family: Dawning of a New Day; position: absolute;'>n</div><div style='top: 80.9090909090909%; left: 43.18181818181818%; font-size: 16pt; font-family: Dawning of a New Day; position: absolute;'>d</div><div style='top: 80.0%; left: 40.0%; font-size: 16pt; font-family: Dawning of a New Day; position: absolute;'> </div><div style='top: 80.0%; left: 40.0%; font-size: 16pt; font-family: Dawning of a New Day; position: absolute;'> </div><div style='top: 76.875%; left: 38.125%; font-size: 16pt; font-family: Dawning of a New Day; position: absolute;'>w</div><div style='top: 73.75%; left: 36.25%; font-size: 16pt; font-family: Dawning of a New Day; position: absolute;'>h</div><div style='top: 70.625%; left: 34.375%; font-size: 16pt; font-family: Dawning of a New Day; position: absolute;'>i</div><div style='top: 67.5%; left: 32.5%; font-size: 16pt; font-family: Dawning of a New Day; position: absolute;'>c</div><div style='top: 64.375%; left: 30.625%; font-size: 16pt; font-family: Dawning of a New Day; position: absolute;'>h</div><div style='top: 61.25%; left: 28.75%; font-size: 16pt; font-family: Dawning of a New Day; position: absolute;'> </div><div style='top: 58.125%; left: 26.875%; font-size: 16pt; font-family: Dawning of a New Day; position: absolute;'>c</div><div style='top: 55.0%; left: 25.0%; font-size: 16pt; font-family: Dawning of a New Day; position: absolute;'>a</div><div style='top: 51.875%; left: 23.125%; font-size: 16pt; font-family: Dawning of a New Day; position: absolute;'>n</div><div style='top: 48.75%; left: 21.25%; font-size: 16pt; font-family: Dawning of a New Day; position: absolute;'> </div><div style='top: 45.625%; left: 19.375%; font-size: 16pt; font-family: Dawning of a New Day; position: absolute;'>n</div><div style='top: 42.5%; left: 17.5%; font-size: 16pt; font-family: Dawning of a New Day; position: absolute;'>e</div><div style='top: 39.375%; left: 15.625%; font-size: 16pt; font-family: Dawning of a New Day; position: absolute;'>v</div><div style='top: 36.25%; left: 13.75%; font-size: 16pt; font-family: Dawning of a New Day; position: absolute;'>e</div><div style='top: 33.125%; left: 11.875%; font-size: 16pt; font-family: Dawning of a New Day; position: absolute;'>r</div><div style='top: 30.0%; left: 10.0%; font-size: 16pt; font-family: Dawning of a New Day; position: absolute;'> </div><div style='top: 30.0%; left: 10.0%; font-size: 16pt; font-family: Dawning of a New Day; position: absolute;'> </div><div style='top: 28.076923076923077%; left: 13.076923076923078%; font-size: 16pt; font-family: Dawning of a New Day; position: absolute;'>b</div><div style='top: 26.153846153846153%; left: 16.153846153846153%; font-size: 16pt; font-family: Dawning of a New Day; position: absolute;'>e</div><div style='top: 24.230769230769226%; left: 19.23076923076923%; font-size: 16pt; font-family: Dawning of a New Day; position: absolute;'> </div><div style='top: 22.30769230769231%; left: 22.307692307692307%; font-size: 16pt; font-family: Dawning of a New Day; position: absolute;'>f</div><div style='top: 20.384615384615387%; left: 25.384615384615387%; font-size: 16pt; font-family: Dawning of a New Day; position: absolute;'>i</div><div style='top: 18.46153846153846%; left: 28.46153846153846%; font-size: 16pt; font-family: Dawning of a New Day; position: absolute;'>l</div><div style='top: 16.53846153846154%; left: 31.53846153846154%; font-size: 16pt; font-family: Dawning of a New Day; position: absolute;'>l</div><div style='top: 14.615384615384613%; left: 34.61538461538461%; font-size: 16pt; font-family: Dawning of a New Day; position: absolute;'>e</div><div style='top: 12.692307692307693%; left: 37.69230769230769%; font-size: 16pt; font-family: Dawning of a New Day; position: absolute;'>d</div><div style='top: 10.769230769230768%; left: 40.769230769230774%; font-size: 16pt; font-family: Dawning of a New Day; position: absolute;'> </div><div style='top: 8.846153846153847%; left: 43.84615384615385%; font-size: 16pt; font-family: Dawning of a New Day; position: absolute;'>u</div><div style='top: 6.923076923076922%; left: 46.92307692307692%; font-size: 16pt; font-family: Dawning of a New Day; position: absolute;'>p</div><div style='top: 5.0%; left: 50.0%; font-size: 16pt; font-family: Dawning of a New Day; position: absolute;'> </div>\n",
       "</body>\n",
       "</html>"
      ],
      "text/plain": [
       "<IPython.core.display.HTML object>"
      ]
     },
     "metadata": {
      "isolated": true
     },
     "output_type": "display_data"
    }
   ],
   "source": [
    "divs = []\n",
    "parts = [\" there are \", \"large blanks \", \" in my mind \", \" which can never \", \" be filled up \"]\n",
    "polygon = [(50, 5), (80, 35), (75, 90), (40, 80), (10, 30), (50, 5)]\n",
    "for i in range(len(polygon) - 1):\n",
    "    side_text = parts[i]\n",
    "    pts = interp(polygon[i], polygon[i+1], n=len(side_text))\n",
    "    for j in range(len(pts)):\n",
    "        ch = side_text[j]\n",
    "        pt = pts[j]\n",
    "        this_div = mkdiv(ch,\n",
    "                     top=f\"{pt[1]}%\",\n",
    "                     left=f\"{pt[0]}%\",\n",
    "                     font_size=\"16pt\",\n",
    "                     font_family=\"Dawning of a New Day\")\n",
    "        divs.append(this_div)\n",
    "html_src = html_tmpl.format(title=\"large blanks\", content=\"\".join(divs))\n",
    "show_html(html_src)"
   ]
  },
  {
   "cell_type": "markdown",
   "metadata": {},
   "source": [
    "# Part Three: *Die Mutter* and BENEHMEN/BEHAVIOR "
   ]
  },
  {
   "cell_type": "markdown",
   "metadata": {},
   "source": [
    "The third composition, again, is meant to play with language and translation. The first pair of strings, seen below, focuses on the german word \"benehmen\", which literally translates to \"behave\" or \"behavior\". When benehmen is split into two parts, it is \"be\" and \"nehmen\"; \"nehmen\" translates to \"take\". So we end up with these two very different ideas, *be have* and *be take*. "
   ]
  },
  {
   "cell_type": "code",
   "execution_count": 13,
   "metadata": {},
   "outputs": [],
   "source": [
    "s1 = \"benehmen behave be have\"\n",
    "s2 = \"benehmen be nehmen be take\""
   ]
  },
  {
   "cell_type": "markdown",
   "metadata": {},
   "source": [
    "The strings in the list below all originate from the phrases \"the mother\" and \"my mother\", translated in different ways / fragments / multiple times. \"Mother\" translates literally to \"Mutter\", and \"the\" becomes the article \"die\". \"The mutter\" has another meaning in english, similar to murmur. \"to mutter\" or murmur translates to the german \"murmeln\", which also means marbles. \"My\" translates to \"meine\", which translates back to \"mean\", as in meaning, which can also *mean* \"mean\" as in mean-spirited. This has been impossible to follow even as I was the one writing it. My apologies."
   ]
  },
  {
   "cell_type": "code",
   "execution_count": 14,
   "metadata": {},
   "outputs": [],
   "source": [
    "stringList = [\"the mother\", \"the mutter\", \"die mutter\", \"die murmeln\", \"the marbles\", \"my mother\", \"meine mutter\", \"mean mother\", \"mean mutter\", \"die mother\"]"
   ]
  },
  {
   "cell_type": "code",
   "execution_count": 15,
   "metadata": {},
   "outputs": [],
   "source": [
    "html_tmpl = \"\"\"<!DOCTYPE html>\n",
    "<html lang=\"en\">\n",
    "<head>\n",
    "    <meta charset=\"utf-8\">\n",
    "    <title>{title}</title>\n",
    "    <link href=\"https://fonts.googleapis.com/css?family=Lacquer&display=swap\" rel=\"stylesheet\">\n",
    "    <style>\n",
    "    html {{ min-height: 32em; overflow: hidden; font-family: 'Lacquer';}}\n",
    "    </style>\n",
    "</head>\n",
    "<body>\n",
    "{content}\n",
    "</body>\n",
    "</html>\"\"\""
   ]
  },
  {
   "cell_type": "markdown",
   "metadata": {},
   "source": [
    "For this poem, I wanted the words to feel as though they were almost spilled over, or falling off, the page, or maybe scratched into a wall. I think that what is most important is for the reader to see \"the mother\", \"mean mutter\" and \"die mother\" when taking in the composition initially, so I had to adjust the arrangement a few times until I felt that the progression of the phrase was somewhat more clear. Of course, there is no real start or end to the poem, but I wanted the person looking at it to feel both the chaos and weird order of it at the same time. I think that having some phrases made less legible by having them overlap is an effective way to higlight the parts that you find most important to take in at the start, so that how you got to one thing from another thing is only clear upon looking more closely. "
   ]
  },
  {
   "cell_type": "code",
   "execution_count": 17,
   "metadata": {},
   "outputs": [
    {
     "data": {
      "text/html": [
       "<!DOCTYPE html>\n",
       "<html lang=\"en\">\n",
       "<head>\n",
       "    <meta charset=\"utf-8\">\n",
       "    <title>mother</title>\n",
       "    <link href=\"https://fonts.googleapis.com/css?family=Lacquer&display=swap\" rel=\"stylesheet\">\n",
       "    <style>\n",
       "    html { min-height: 32em; overflow: hidden; font-family: 'Lacquer';}\n",
       "    </style>\n",
       "</head>\n",
       "<body>\n",
       "<div style='top: 50%; left: 10%; height: 30pt; font-size: 12pt; transform: translate(-50%, -50%) rotate(0deg); position: absolute;'>the mother</div><div style='top: 50%; left: 20%; height: 70pt; font-size: 12pt; transform: translate(-50%, -50%) rotate(36deg); position: absolute;'>the mutter</div><div style='top: 50%; left: 30%; height: 110pt; font-size: 12pt; transform: translate(-50%, -50%) rotate(72deg); position: absolute;'>die mutter</div><div style='top: 50%; left: 40%; height: 150pt; font-size: 12pt; transform: translate(-50%, -50%) rotate(108deg); position: absolute;'>die murmeln</div><div style='top: 50%; left: 50%; height: 190pt; font-size: 12pt; transform: translate(-50%, -50%) rotate(144deg); position: absolute;'>the marbles</div><div style='top: 50%; left: 60%; height: 230pt; font-size: 12pt; transform: translate(-50%, -50%) rotate(180deg); position: absolute;'>my mother</div><div style='top: 50%; left: 70%; height: 270pt; font-size: 12pt; transform: translate(-50%, -50%) rotate(216deg); position: absolute;'>meine mutter</div><div style='top: 50%; left: 80%; height: 310pt; font-size: 12pt; transform: translate(-50%, -50%) rotate(252deg); position: absolute;'>mean mother</div><div style='top: 50%; left: 90%; height: 350pt; font-size: 12pt; transform: translate(-50%, -50%) rotate(288deg); position: absolute;'>mean mutter</div><div style='top: 50%; left: 100%; height: 390pt; font-size: 12pt; transform: translate(-50%, -50%) rotate(324deg); position: absolute;'>die mother</div>\n",
       "</body>\n",
       "</html>"
      ],
      "text/plain": [
       "<IPython.core.display.HTML object>"
      ]
     },
     "metadata": {
      "isolated": true
     },
     "output_type": "display_data"
    }
   ],
   "source": [
    "divs = []\n",
    "angle_step = 36\n",
    "for i in range(len(stringList)):\n",
    "    angle = i * angle_step\n",
    "    this_div = mkdiv(stringList[i],\n",
    "                     top=\"50%\",\n",
    "                     left=f\"{10 + i * 10}%\",\n",
    "                     height=f\"{30 + i*40}pt\",\n",
    "                     font_size=\"12pt\",\n",
    "                     transform=f\"translate(-50%, -50%) rotate({angle}deg)\")\n",
    "    divs.append(this_div)\n",
    "html_src = html_tmpl.format(title=\"mother\", content=\"\".join(divs))\n",
    "show_html(html_src)"
   ]
  },
  {
   "cell_type": "markdown",
   "metadata": {},
   "source": [
    "For BENEHMEN/BEHAVIOR, I became more interested in the characters of \"be have\" and \"be take\" than in the actual journey to get from \"benehmen\" to either of those phrases. So BENEHMEN/BEHAVIOR is the title of the piece, which can give insight into how the two main elements were chosen."
   ]
  },
  {
   "cell_type": "code",
   "execution_count": 46,
   "metadata": {},
   "outputs": [
    {
     "data": {
      "text/html": [
       "<!DOCTYPE html>\n",
       "<html lang=\"en\">\n",
       "<head>\n",
       "    <meta charset=\"utf-8\">\n",
       "    <title>benehmen/behavior</title>\n",
       "    <link href=\"https://fonts.googleapis.com/css?family=Lacquer&display=swap\" rel=\"stylesheet\">\n",
       "    <style>\n",
       "    html { min-height: 32em; overflow: hidden; font-family: 'Lacquer';}\n",
       "    </style>\n",
       "</head>\n",
       "<body>\n",
       "<div style='top: 0%; left: 0%; font-size: 12pt; position: absolute;'>be have</div><div style='top: 0%; left: 8%; font-size: 12pt; position: absolute;'>be have</div><div style='top: 0%; left: 16%; font-size: 12pt; position: absolute;'>be have</div><div style='top: 0%; left: 24%; font-size: 12pt; position: absolute;'>be have</div><div style='top: 0%; left: 32%; font-size: 12pt; position: absolute;'>be have</div><div style='top: 0%; left: 40%; font-size: 12pt; position: absolute;'>be have</div><div style='top: 0%; left: 48%; font-size: 12pt; position: absolute;'>be have</div><div style='top: 0%; left: 56%; font-size: 12pt; position: absolute;'>be have</div><div style='top: 0%; left: 64%; font-size: 12pt; position: absolute;'>be have</div><div style='top: 0%; left: 72%; font-size: 12pt; position: absolute;'>be have</div><div style='top: 0%; left: 80%; font-size: 12pt; position: absolute;'>be have</div><div style='top: 0%; left: 88%; font-size: 12pt; position: absolute;'>be have</div><div style='top: 5%; left: 0%; font-size: 12pt; position: absolute;'>be have</div><div style='top: 5%; left: 8%; font-size: 12pt; position: absolute;'>be have</div><div style='top: 5%; left: 16%; font-size: 12pt; position: absolute;'>be have</div><div style='top: 5%; left: 24%; font-size: 12pt; position: absolute;'>be have</div><div style='top: 5%; left: 32%; font-size: 12pt; position: absolute;'>be have</div><div style='top: 5%; left: 40%; font-size: 12pt; position: absolute;'>be have</div><div style='top: 5%; left: 48%; font-size: 12pt; position: absolute;'>be have</div><div style='top: 5%; left: 56%; font-size: 12pt; position: absolute;'>be have</div><div style='top: 5%; left: 64%; font-size: 12pt; position: absolute;'>be have</div><div style='top: 5%; left: 72%; font-size: 12pt; position: absolute;'>be have</div><div style='top: 5%; left: 80%; font-size: 12pt; position: absolute;'>be have</div><div style='top: 5%; left: 88%; font-size: 12pt; position: absolute;'>be have</div><div style='top: 10%; left: 0%; font-size: 12pt; position: absolute;'>be have</div><div style='top: 10%; left: 8%; font-size: 12pt; position: absolute;'>be have</div><div style='top: 10%; left: 16%; font-size: 12pt; position: absolute;'>be have</div><div style='top: 10%; left: 24%; font-size: 12pt; position: absolute;'>be have</div><div style='top: 10%; left: 32%; font-size: 12pt; position: absolute;'>be have</div><div style='top: 10%; left: 40%; font-size: 12pt; position: absolute;'>be have</div><div style='top: 10%; left: 48%; font-size: 12pt; position: absolute;'>be have</div><div style='top: 10%; left: 56%; font-size: 12pt; position: absolute;'>be have</div><div style='top: 10%; left: 64%; font-size: 12pt; position: absolute;'>be have</div><div style='top: 10%; left: 72%; font-size: 12pt; position: absolute;'>be have</div><div style='top: 10%; left: 80%; font-size: 12pt; position: absolute;'>be have</div><div style='top: 10%; left: 88%; font-size: 12pt; position: absolute;'>be have</div><div style='top: 15%; left: 0%; font-size: 12pt; position: absolute;'>be have</div><div style='top: 15%; left: 8%; font-size: 12pt; position: absolute;'>be have</div><div style='top: 15%; left: 16%; font-size: 12pt; position: absolute;'>be have</div><div style='top: 15%; left: 24%; font-size: 12pt; position: absolute;'>be have</div><div style='top: 15%; left: 32%; font-size: 12pt; position: absolute;'>be have</div><div style='top: 15%; left: 40%; font-size: 12pt; position: absolute;'>be have</div><div style='top: 15%; left: 48%; font-size: 12pt; position: absolute;'>be have</div><div style='top: 15%; left: 56%; font-size: 12pt; position: absolute;'>be have</div><div style='top: 15%; left: 64%; font-size: 12pt; position: absolute;'>be have</div><div style='top: 15%; left: 72%; font-size: 12pt; position: absolute;'>be have</div><div style='top: 15%; left: 80%; font-size: 12pt; position: absolute;'>be have</div><div style='top: 15%; left: 88%; font-size: 12pt; position: absolute;'>be have</div><div style='top: 20%; left: 0%; font-size: 12pt; position: absolute;'>be have</div><div style='top: 20%; left: 8%; font-size: 12pt; position: absolute;'>be have</div><div style='top: 20%; left: 16%; font-size: 12pt; position: absolute;'>be have</div><div style='top: 20%; left: 24%; font-size: 12pt; position: absolute;'>be have</div><div style='top: 20%; left: 32%; font-size: 12pt; position: absolute;'>be have</div><div style='top: 20%; left: 40%; font-size: 12pt; position: absolute;'>be have</div><div style='top: 20%; left: 48%; font-size: 12pt; position: absolute;'>be have</div><div style='top: 20%; left: 56%; font-size: 12pt; position: absolute;'>be have</div><div style='top: 20%; left: 64%; font-size: 12pt; position: absolute;'>be have</div><div style='top: 20%; left: 72%; font-size: 12pt; position: absolute;'>be have</div><div style='top: 20%; left: 80%; font-size: 12pt; position: absolute;'>be have</div><div style='top: 20%; left: 88%; font-size: 12pt; position: absolute;'>be have</div><div style='top: 25%; left: 0%; font-size: 12pt; position: absolute;'>be have</div><div style='top: 25%; left: 8%; font-size: 12pt; position: absolute;'>be have</div><div style='top: 25%; left: 16%; font-size: 12pt; position: absolute;'>be have</div><div style='top: 25%; left: 24%; font-size: 12pt; position: absolute;'>be have</div><div style='top: 25%; left: 32%; font-size: 12pt; position: absolute;'>be have</div><div style='top: 25%; left: 40%; font-size: 12pt; position: absolute;'>be have</div><div style='top: 25%; left: 48%; font-size: 12pt; position: absolute;'>be have</div><div style='top: 25%; left: 56%; font-size: 12pt; position: absolute;'>be have</div><div style='top: 25%; left: 64%; font-size: 12pt; position: absolute;'>be have</div><div style='top: 25%; left: 72%; font-size: 12pt; position: absolute;'>be have</div><div style='top: 25%; left: 80%; font-size: 12pt; position: absolute;'>be have</div><div style='top: 25%; left: 88%; font-size: 12pt; position: absolute;'>be have</div><div style='top: 30%; left: 0%; font-size: 12pt; position: absolute;'>be have</div><div style='top: 30%; left: 8%; font-size: 12pt; position: absolute;'>be have</div><div style='top: 30%; left: 16%; font-size: 12pt; position: absolute;'>be have</div><div style='top: 30%; left: 24%; font-size: 12pt; position: absolute;'>be have</div><div style='top: 30%; left: 32%; font-size: 12pt; position: absolute;'>be have</div><div style='top: 30%; left: 40%; font-size: 12pt; position: absolute;'>be have</div><div style='top: 30%; left: 48%; font-size: 12pt; position: absolute;'>be have</div><div style='top: 30%; left: 56%; font-size: 12pt; position: absolute;'>be have</div><div style='top: 30%; left: 64%; font-size: 12pt; position: absolute;'>be have</div><div style='top: 30%; left: 72%; font-size: 12pt; position: absolute;'>be have</div><div style='top: 30%; left: 80%; font-size: 12pt; position: absolute;'>be have</div><div style='top: 30%; left: 88%; font-size: 12pt; position: absolute;'>be have</div><div style='top: 35%; left: 0%; font-size: 12pt; position: absolute;'>be have</div><div style='top: 35%; left: 8%; font-size: 12pt; position: absolute;'>be have</div><div style='top: 35%; left: 16%; font-size: 12pt; position: absolute;'>be have</div><div style='top: 35%; left: 24%; font-size: 12pt; position: absolute;'>be have</div><div style='top: 35%; left: 32%; font-size: 12pt; position: absolute;'>be have</div><div style='top: 35%; left: 40%; font-size: 12pt; position: absolute;'>be have</div><div style='top: 35%; left: 48%; font-size: 12pt; position: absolute;'>be have</div><div style='top: 35%; left: 56%; font-size: 12pt; position: absolute;'>be have</div><div style='top: 35%; left: 64%; font-size: 12pt; position: absolute;'>be have</div><div style='top: 35%; left: 72%; font-size: 12pt; position: absolute;'>be have</div><div style='top: 35%; left: 80%; font-size: 12pt; position: absolute;'>be have</div><div style='top: 35%; left: 88%; font-size: 12pt; position: absolute;'>be have</div><div style='top: 40%; left: 0%; font-size: 12pt; position: absolute;'>be have</div><div style='top: 40%; left: 8%; font-size: 12pt; position: absolute;'>be have</div><div style='top: 40%; left: 16%; font-size: 12pt; position: absolute;'>be have</div><div style='top: 40%; left: 24%; font-size: 12pt; position: absolute;'>be have</div><div style='top: 40%; left: 32%; font-size: 12pt; position: absolute;'>be have</div><div style='top: 40%; left: 40%; font-size: 12pt; position: absolute;'>be have</div><div style='top: 40%; left: 48%; font-size: 12pt; position: absolute;'>be have</div><div style='top: 40%; left: 56%; font-size: 12pt; position: absolute;'>be have</div><div style='top: 40%; left: 64%; font-size: 12pt; position: absolute;'>be have</div><div style='top: 40%; left: 72%; font-size: 12pt; position: absolute;'>be have</div><div style='top: 40%; left: 80%; font-size: 12pt; position: absolute;'>be have</div><div style='top: 40%; left: 88%; font-size: 12pt; position: absolute;'>be have</div><div style='top: 45%; left: 0%; font-size: 12pt; position: absolute;'>be have</div><div style='top: 45%; left: 8%; font-size: 12pt; position: absolute;'>be have</div><div style='top: 45%; left: 16%; font-size: 12pt; position: absolute;'>be have</div><div style='top: 45%; left: 24%; font-size: 12pt; position: absolute;'>be have</div><div style='top: 45%; left: 32%; font-size: 12pt; position: absolute;'>be have</div><div style='top: 45%; left: 40%; font-size: 12pt; position: absolute;'>be have</div><div style='top: 45%; left: 48%; font-size: 12pt; position: absolute;'>be have</div><div style='top: 45%; left: 56%; font-size: 12pt; position: absolute;'>be have</div><div style='top: 45%; left: 64%; font-size: 12pt; position: absolute;'>be have</div><div style='top: 45%; left: 72%; font-size: 12pt; position: absolute;'>be have</div><div style='top: 45%; left: 80%; font-size: 12pt; position: absolute;'>be have</div><div style='top: 45%; left: 88%; font-size: 12pt; position: absolute;'>be have</div><div style='top: 50%; left: 0%; font-size: 12pt; position: absolute;'>be have</div><div style='top: 50%; left: 8%; font-size: 12pt; position: absolute;'>be have</div><div style='top: 50%; left: 16%; font-size: 12pt; position: absolute;'>be have</div><div style='top: 50%; left: 24%; font-size: 12pt; position: absolute;'>be have</div><div style='top: 50%; left: 32%; font-size: 12pt; position: absolute;'>be have</div><div style='top: 50%; left: 40%; font-size: 12pt; position: absolute;'>be have</div><div style='top: 50%; left: 48%; font-size: 12pt; position: absolute;'>be have</div><div style='top: 50%; left: 56%; font-size: 12pt; position: absolute;'>be have</div><div style='top: 50%; left: 64%; font-size: 12pt; position: absolute;'>be have</div><div style='top: 50%; left: 72%; font-size: 12pt; position: absolute;'>be have</div><div style='top: 50%; left: 80%; font-size: 12pt; position: absolute;'>be have</div><div style='top: 50%; left: 88%; font-size: 12pt; position: absolute;'>be have</div><div style='top: 55%; left: 0%; font-size: 12pt; position: absolute;'>be have</div><div style='top: 55%; left: 8%; font-size: 12pt; position: absolute;'>be have</div><div style='top: 55%; left: 16%; font-size: 12pt; position: absolute;'>be have</div><div style='top: 55%; left: 24%; font-size: 12pt; position: absolute;'>be have</div><div style='top: 55%; left: 32%; font-size: 12pt; position: absolute;'>be have</div><div style='top: 55%; left: 40%; font-size: 12pt; position: absolute;'>be have</div><div style='top: 55%; left: 48%; font-size: 12pt; position: absolute;'>be have</div><div style='top: 55%; left: 56%; font-size: 12pt; position: absolute;'>be have</div><div style='top: 55%; left: 64%; font-size: 12pt; position: absolute;'>be have</div><div style='top: 55%; left: 72%; font-size: 12pt; position: absolute;'>be have</div><div style='top: 55%; left: 80%; font-size: 12pt; position: absolute;'>be have</div><div style='top: 55%; left: 88%; font-size: 12pt; position: absolute;'>be have</div><div style='top: 60%; left: 0%; font-size: 12pt; position: absolute;'>be have</div><div style='top: 60%; left: 8%; font-size: 12pt; position: absolute;'>be have</div><div style='top: 60%; left: 16%; font-size: 12pt; position: absolute;'>be have</div><div style='top: 60%; left: 24%; font-size: 12pt; position: absolute;'>be have</div><div style='top: 60%; left: 32%; font-size: 12pt; position: absolute;'>be have</div><div style='top: 60%; left: 40%; font-size: 12pt; position: absolute;'>be have</div><div style='top: 60%; left: 48%; font-size: 12pt; position: absolute;'>be have</div><div style='top: 60%; left: 56%; font-size: 12pt; position: absolute;'>be have</div><div style='top: 60%; left: 64%; font-size: 12pt; position: absolute;'>be have</div><div style='top: 60%; left: 72%; font-size: 12pt; position: absolute;'>be have</div><div style='top: 60%; left: 80%; font-size: 12pt; position: absolute;'>be have</div><div style='top: 60%; left: 88%; font-size: 12pt; position: absolute;'>be have</div><div style='top: 65%; left: 0%; font-size: 12pt; position: absolute;'>be have</div><div style='top: 65%; left: 8%; font-size: 12pt; position: absolute;'>be have</div><div style='top: 65%; left: 16%; font-size: 12pt; position: absolute;'>be have</div><div style='top: 65%; left: 24%; font-size: 12pt; position: absolute;'>be have</div><div style='top: 65%; left: 32%; font-size: 12pt; position: absolute;'>be have</div><div style='top: 65%; left: 40%; font-size: 12pt; position: absolute;'>be have</div><div style='top: 65%; left: 48%; font-size: 12pt; position: absolute;'>be have</div><div style='top: 65%; left: 56%; font-size: 12pt; position: absolute;'>be have</div><div style='top: 65%; left: 64%; font-size: 12pt; position: absolute;'>be have</div><div style='top: 65%; left: 72%; font-size: 12pt; position: absolute;'>be have</div><div style='top: 65%; left: 80%; font-size: 12pt; position: absolute;'>be have</div><div style='top: 65%; left: 88%; font-size: 12pt; position: absolute;'>be have</div><div style='top: 70%; left: 0%; font-size: 12pt; position: absolute;'>be have</div><div style='top: 70%; left: 8%; font-size: 12pt; position: absolute;'>be have</div><div style='top: 70%; left: 16%; font-size: 12pt; position: absolute;'>be have</div><div style='top: 70%; left: 24%; font-size: 12pt; position: absolute;'>be have</div><div style='top: 70%; left: 32%; font-size: 12pt; position: absolute;'>be have</div><div style='top: 70%; left: 40%; font-size: 12pt; position: absolute;'>be have</div><div style='top: 70%; left: 48%; font-size: 12pt; position: absolute;'>be have</div><div style='top: 70%; left: 56%; font-size: 12pt; position: absolute;'>be have</div><div style='top: 70%; left: 64%; font-size: 12pt; position: absolute;'>be have</div><div style='top: 70%; left: 72%; font-size: 12pt; position: absolute;'>be have</div><div style='top: 70%; left: 80%; font-size: 12pt; position: absolute;'>be have</div><div style='top: 70%; left: 88%; font-size: 12pt; position: absolute;'>be have</div><div style='top: 75%; left: 0%; font-size: 12pt; position: absolute;'>be have</div><div style='top: 75%; left: 8%; font-size: 12pt; position: absolute;'>be have</div><div style='top: 75%; left: 16%; font-size: 12pt; position: absolute;'>be have</div><div style='top: 75%; left: 24%; font-size: 12pt; position: absolute;'>be have</div><div style='top: 75%; left: 32%; font-size: 12pt; position: absolute;'>be have</div><div style='top: 75%; left: 40%; font-size: 12pt; position: absolute;'>be have</div><div style='top: 75%; left: 48%; font-size: 12pt; position: absolute;'>be have</div><div style='top: 75%; left: 56%; font-size: 12pt; position: absolute;'>be have</div><div style='top: 75%; left: 64%; font-size: 12pt; position: absolute;'>be have</div><div style='top: 75%; left: 72%; font-size: 12pt; position: absolute;'>be have</div><div style='top: 75%; left: 80%; font-size: 12pt; position: absolute;'>be have</div><div style='top: 75%; left: 88%; font-size: 12pt; position: absolute;'>be have</div><div style='top: 80%; left: 0%; font-size: 12pt; position: absolute;'>be have</div><div style='top: 80%; left: 8%; font-size: 12pt; position: absolute;'>be have</div><div style='top: 80%; left: 16%; font-size: 12pt; position: absolute;'>be have</div><div style='top: 80%; left: 24%; font-size: 12pt; position: absolute;'>be have</div><div style='top: 80%; left: 32%; font-size: 12pt; position: absolute;'>be have</div><div style='top: 80%; left: 40%; font-size: 12pt; position: absolute;'>be have</div><div style='top: 80%; left: 48%; font-size: 12pt; position: absolute;'>be have</div><div style='top: 80%; left: 56%; font-size: 12pt; position: absolute;'>be have</div><div style='top: 80%; left: 64%; font-size: 12pt; position: absolute;'>be have</div><div style='top: 80%; left: 72%; font-size: 12pt; position: absolute;'>be have</div><div style='top: 80%; left: 80%; font-size: 12pt; position: absolute;'>be have</div><div style='top: 80%; left: 88%; font-size: 12pt; position: absolute;'>be have</div><div style='top: 85%; left: 0%; font-size: 12pt; position: absolute;'>be have</div><div style='top: 85%; left: 8%; font-size: 12pt; position: absolute;'>be have</div><div style='top: 85%; left: 16%; font-size: 12pt; position: absolute;'>be have</div><div style='top: 85%; left: 24%; font-size: 12pt; position: absolute;'>be have</div><div style='top: 85%; left: 32%; font-size: 12pt; position: absolute;'>be have</div><div style='top: 85%; left: 40%; font-size: 12pt; position: absolute;'>be have</div><div style='top: 85%; left: 48%; font-size: 12pt; position: absolute;'>be have</div><div style='top: 85%; left: 56%; font-size: 12pt; position: absolute;'>be have</div><div style='top: 85%; left: 64%; font-size: 12pt; position: absolute;'>be have</div><div style='top: 85%; left: 72%; font-size: 12pt; position: absolute;'>be have</div><div style='top: 85%; left: 80%; font-size: 12pt; position: absolute;'>be have</div><div style='top: 85%; left: 88%; font-size: 12pt; position: absolute;'>be have</div><div style='top: 90%; left: 0%; font-size: 12pt; position: absolute;'>be have</div><div style='top: 90%; left: 8%; font-size: 12pt; position: absolute;'>be have</div><div style='top: 90%; left: 16%; font-size: 12pt; position: absolute;'>be have</div><div style='top: 90%; left: 24%; font-size: 12pt; position: absolute;'>be have</div><div style='top: 90%; left: 32%; font-size: 12pt; position: absolute;'>be have</div><div style='top: 90%; left: 40%; font-size: 12pt; position: absolute;'>be have</div><div style='top: 90%; left: 48%; font-size: 12pt; position: absolute;'>be have</div><div style='top: 90%; left: 56%; font-size: 12pt; position: absolute;'>be have</div><div style='top: 90%; left: 64%; font-size: 12pt; position: absolute;'>be have</div><div style='top: 90%; left: 72%; font-size: 12pt; position: absolute;'>be have</div><div style='top: 90%; left: 80%; font-size: 12pt; position: absolute;'>be have</div><div style='top: 90%; left: 88%; font-size: 12pt; position: absolute;'>be have</div><div style='top: 95%; left: 0%; font-size: 12pt; position: absolute;'>be have</div><div style='top: 95%; left: 8%; font-size: 12pt; position: absolute;'>be have</div><div style='top: 95%; left: 16%; font-size: 12pt; position: absolute;'>be have</div><div style='top: 95%; left: 24%; font-size: 12pt; position: absolute;'>be have</div><div style='top: 95%; left: 32%; font-size: 12pt; position: absolute;'>be have</div><div style='top: 95%; left: 40%; font-size: 12pt; position: absolute;'>be have</div><div style='top: 95%; left: 48%; font-size: 12pt; position: absolute;'>be have</div><div style='top: 95%; left: 56%; font-size: 12pt; position: absolute;'>be have</div><div style='top: 95%; left: 64%; font-size: 12pt; position: absolute;'>be have</div><div style='top: 95%; left: 72%; font-size: 12pt; position: absolute;'>be have</div><div style='top: 95%; left: 80%; font-size: 12pt; position: absolute;'>be have</div><div style='top: 95%; left: 88%; font-size: 12pt; position: absolute;'>be have</div><div style='top: 20%; left: 30%; height: 55%; width: 35%; background-color: white; border-radius: 50%; position: absolute;'></div><div style='top: 20%; left: 30%; font-size: 12pt; transform: translate(-50%, -50%) rotate(600deg); position: absolute;'>be take</div><div style='top: 20%; left: 35%; font-size: 12pt; transform: translate(-50%, -50%) rotate(700deg); position: absolute;'>be take</div><div style='top: 20%; left: 40%; font-size: 12pt; transform: translate(-50%, -50%) rotate(800deg); position: absolute;'>be take</div><div style='top: 20%; left: 45%; font-size: 12pt; transform: translate(-50%, -50%) rotate(900deg); position: absolute;'>be take</div><div style='top: 20%; left: 50%; font-size: 12pt; transform: translate(-50%, -50%) rotate(1000deg); position: absolute;'>be take</div><div style='top: 20%; left: 55%; font-size: 12pt; transform: translate(-50%, -50%) rotate(1100deg); position: absolute;'>be take</div><div style='top: 20%; left: 60%; font-size: 12pt; transform: translate(-50%, -50%) rotate(1200deg); position: absolute;'>be take</div><div style='top: 20%; left: 65%; font-size: 12pt; transform: translate(-50%, -50%) rotate(1300deg); position: absolute;'>be take</div><div style='top: 25%; left: 30%; font-size: 12pt; transform: translate(-50%, -50%) rotate(750deg); position: absolute;'>be take</div><div style='top: 25%; left: 35%; font-size: 12pt; transform: translate(-50%, -50%) rotate(875deg); position: absolute;'>be take</div><div style='top: 25%; left: 40%; font-size: 12pt; transform: translate(-50%, -50%) rotate(1000deg); position: absolute;'>be take</div><div style='top: 25%; left: 45%; font-size: 12pt; transform: translate(-50%, -50%) rotate(1125deg); position: absolute;'>be take</div><div style='top: 25%; left: 50%; font-size: 12pt; transform: translate(-50%, -50%) rotate(1250deg); position: absolute;'>be take</div><div style='top: 25%; left: 55%; font-size: 12pt; transform: translate(-50%, -50%) rotate(1375deg); position: absolute;'>be take</div><div style='top: 25%; left: 60%; font-size: 12pt; transform: translate(-50%, -50%) rotate(1500deg); position: absolute;'>be take</div><div style='top: 25%; left: 65%; font-size: 12pt; transform: translate(-50%, -50%) rotate(1625deg); position: absolute;'>be take</div><div style='top: 30%; left: 30%; font-size: 12pt; transform: translate(-50%, -50%) rotate(900deg); position: absolute;'>be take</div><div style='top: 30%; left: 35%; font-size: 12pt; transform: translate(-50%, -50%) rotate(1050deg); position: absolute;'>be take</div><div style='top: 30%; left: 40%; font-size: 12pt; transform: translate(-50%, -50%) rotate(1200deg); position: absolute;'>be take</div><div style='top: 30%; left: 45%; font-size: 12pt; transform: translate(-50%, -50%) rotate(1350deg); position: absolute;'>be take</div><div style='top: 30%; left: 50%; font-size: 12pt; transform: translate(-50%, -50%) rotate(1500deg); position: absolute;'>be take</div><div style='top: 30%; left: 55%; font-size: 12pt; transform: translate(-50%, -50%) rotate(1650deg); position: absolute;'>be take</div><div style='top: 30%; left: 60%; font-size: 12pt; transform: translate(-50%, -50%) rotate(1800deg); position: absolute;'>be take</div><div style='top: 30%; left: 65%; font-size: 12pt; transform: translate(-50%, -50%) rotate(1950deg); position: absolute;'>be take</div><div style='top: 35%; left: 30%; font-size: 12pt; transform: translate(-50%, -50%) rotate(1050deg); position: absolute;'>be take</div><div style='top: 35%; left: 35%; font-size: 12pt; transform: translate(-50%, -50%) rotate(1225deg); position: absolute;'>be take</div><div style='top: 35%; left: 40%; font-size: 12pt; transform: translate(-50%, -50%) rotate(1400deg); position: absolute;'>be take</div><div style='top: 35%; left: 45%; font-size: 12pt; transform: translate(-50%, -50%) rotate(1575deg); position: absolute;'>be take</div><div style='top: 35%; left: 50%; font-size: 12pt; transform: translate(-50%, -50%) rotate(1750deg); position: absolute;'>be take</div><div style='top: 35%; left: 55%; font-size: 12pt; transform: translate(-50%, -50%) rotate(1925deg); position: absolute;'>be take</div><div style='top: 35%; left: 60%; font-size: 12pt; transform: translate(-50%, -50%) rotate(2100deg); position: absolute;'>be take</div><div style='top: 35%; left: 65%; font-size: 12pt; transform: translate(-50%, -50%) rotate(2275deg); position: absolute;'>be take</div><div style='top: 40%; left: 30%; font-size: 12pt; transform: translate(-50%, -50%) rotate(1200deg); position: absolute;'>be take</div><div style='top: 40%; left: 35%; font-size: 12pt; transform: translate(-50%, -50%) rotate(1400deg); position: absolute;'>be take</div><div style='top: 40%; left: 40%; font-size: 12pt; transform: translate(-50%, -50%) rotate(1600deg); position: absolute;'>be take</div><div style='top: 40%; left: 45%; font-size: 12pt; transform: translate(-50%, -50%) rotate(1800deg); position: absolute;'>be take</div><div style='top: 40%; left: 50%; font-size: 12pt; transform: translate(-50%, -50%) rotate(2000deg); position: absolute;'>be take</div><div style='top: 40%; left: 55%; font-size: 12pt; transform: translate(-50%, -50%) rotate(2200deg); position: absolute;'>be take</div><div style='top: 40%; left: 60%; font-size: 12pt; transform: translate(-50%, -50%) rotate(2400deg); position: absolute;'>be take</div><div style='top: 40%; left: 65%; font-size: 12pt; transform: translate(-50%, -50%) rotate(2600deg); position: absolute;'>be take</div><div style='top: 45%; left: 30%; font-size: 12pt; transform: translate(-50%, -50%) rotate(1350deg); position: absolute;'>be take</div><div style='top: 45%; left: 35%; font-size: 12pt; transform: translate(-50%, -50%) rotate(1575deg); position: absolute;'>be take</div><div style='top: 45%; left: 40%; font-size: 12pt; transform: translate(-50%, -50%) rotate(1800deg); position: absolute;'>be take</div><div style='top: 45%; left: 45%; font-size: 12pt; transform: translate(-50%, -50%) rotate(2025deg); position: absolute;'>be take</div><div style='top: 45%; left: 50%; font-size: 12pt; transform: translate(-50%, -50%) rotate(2250deg); position: absolute;'>be take</div><div style='top: 45%; left: 55%; font-size: 12pt; transform: translate(-50%, -50%) rotate(2475deg); position: absolute;'>be take</div><div style='top: 45%; left: 60%; font-size: 12pt; transform: translate(-50%, -50%) rotate(2700deg); position: absolute;'>be take</div><div style='top: 45%; left: 65%; font-size: 12pt; transform: translate(-50%, -50%) rotate(2925deg); position: absolute;'>be take</div><div style='top: 50%; left: 30%; font-size: 12pt; transform: translate(-50%, -50%) rotate(1500deg); position: absolute;'>be take</div><div style='top: 50%; left: 35%; font-size: 12pt; transform: translate(-50%, -50%) rotate(1750deg); position: absolute;'>be take</div><div style='top: 50%; left: 40%; font-size: 12pt; transform: translate(-50%, -50%) rotate(2000deg); position: absolute;'>be take</div><div style='top: 50%; left: 45%; font-size: 12pt; transform: translate(-50%, -50%) rotate(2250deg); position: absolute;'>be take</div><div style='top: 50%; left: 50%; font-size: 12pt; transform: translate(-50%, -50%) rotate(2500deg); position: absolute;'>be take</div><div style='top: 50%; left: 55%; font-size: 12pt; transform: translate(-50%, -50%) rotate(2750deg); position: absolute;'>be take</div><div style='top: 50%; left: 60%; font-size: 12pt; transform: translate(-50%, -50%) rotate(3000deg); position: absolute;'>be take</div><div style='top: 50%; left: 65%; font-size: 12pt; transform: translate(-50%, -50%) rotate(3250deg); position: absolute;'>be take</div><div style='top: 55%; left: 30%; font-size: 12pt; transform: translate(-50%, -50%) rotate(1650deg); position: absolute;'>be take</div><div style='top: 55%; left: 35%; font-size: 12pt; transform: translate(-50%, -50%) rotate(1925deg); position: absolute;'>be take</div><div style='top: 55%; left: 40%; font-size: 12pt; transform: translate(-50%, -50%) rotate(2200deg); position: absolute;'>be take</div><div style='top: 55%; left: 45%; font-size: 12pt; transform: translate(-50%, -50%) rotate(2475deg); position: absolute;'>be take</div><div style='top: 55%; left: 50%; font-size: 12pt; transform: translate(-50%, -50%) rotate(2750deg); position: absolute;'>be take</div><div style='top: 55%; left: 55%; font-size: 12pt; transform: translate(-50%, -50%) rotate(3025deg); position: absolute;'>be take</div><div style='top: 55%; left: 60%; font-size: 12pt; transform: translate(-50%, -50%) rotate(3300deg); position: absolute;'>be take</div><div style='top: 55%; left: 65%; font-size: 12pt; transform: translate(-50%, -50%) rotate(3575deg); position: absolute;'>be take</div><div style='top: 60%; left: 30%; font-size: 12pt; transform: translate(-50%, -50%) rotate(1800deg); position: absolute;'>be take</div><div style='top: 60%; left: 35%; font-size: 12pt; transform: translate(-50%, -50%) rotate(2100deg); position: absolute;'>be take</div><div style='top: 60%; left: 40%; font-size: 12pt; transform: translate(-50%, -50%) rotate(2400deg); position: absolute;'>be take</div><div style='top: 60%; left: 45%; font-size: 12pt; transform: translate(-50%, -50%) rotate(2700deg); position: absolute;'>be take</div><div style='top: 60%; left: 50%; font-size: 12pt; transform: translate(-50%, -50%) rotate(3000deg); position: absolute;'>be take</div><div style='top: 60%; left: 55%; font-size: 12pt; transform: translate(-50%, -50%) rotate(3300deg); position: absolute;'>be take</div><div style='top: 60%; left: 60%; font-size: 12pt; transform: translate(-50%, -50%) rotate(3600deg); position: absolute;'>be take</div><div style='top: 60%; left: 65%; font-size: 12pt; transform: translate(-50%, -50%) rotate(3900deg); position: absolute;'>be take</div><div style='top: 65%; left: 30%; font-size: 12pt; transform: translate(-50%, -50%) rotate(1950deg); position: absolute;'>be take</div><div style='top: 65%; left: 35%; font-size: 12pt; transform: translate(-50%, -50%) rotate(2275deg); position: absolute;'>be take</div><div style='top: 65%; left: 40%; font-size: 12pt; transform: translate(-50%, -50%) rotate(2600deg); position: absolute;'>be take</div><div style='top: 65%; left: 45%; font-size: 12pt; transform: translate(-50%, -50%) rotate(2925deg); position: absolute;'>be take</div><div style='top: 65%; left: 50%; font-size: 12pt; transform: translate(-50%, -50%) rotate(3250deg); position: absolute;'>be take</div><div style='top: 65%; left: 55%; font-size: 12pt; transform: translate(-50%, -50%) rotate(3575deg); position: absolute;'>be take</div><div style='top: 65%; left: 60%; font-size: 12pt; transform: translate(-50%, -50%) rotate(3900deg); position: absolute;'>be take</div><div style='top: 65%; left: 65%; font-size: 12pt; transform: translate(-50%, -50%) rotate(4225deg); position: absolute;'>be take</div><div style='top: 70%; left: 30%; font-size: 12pt; transform: translate(-50%, -50%) rotate(2100deg); position: absolute;'>be take</div><div style='top: 70%; left: 35%; font-size: 12pt; transform: translate(-50%, -50%) rotate(2450deg); position: absolute;'>be take</div><div style='top: 70%; left: 40%; font-size: 12pt; transform: translate(-50%, -50%) rotate(2800deg); position: absolute;'>be take</div><div style='top: 70%; left: 45%; font-size: 12pt; transform: translate(-50%, -50%) rotate(3150deg); position: absolute;'>be take</div><div style='top: 70%; left: 50%; font-size: 12pt; transform: translate(-50%, -50%) rotate(3500deg); position: absolute;'>be take</div><div style='top: 70%; left: 55%; font-size: 12pt; transform: translate(-50%, -50%) rotate(3850deg); position: absolute;'>be take</div><div style='top: 70%; left: 60%; font-size: 12pt; transform: translate(-50%, -50%) rotate(4200deg); position: absolute;'>be take</div><div style='top: 70%; left: 65%; font-size: 12pt; transform: translate(-50%, -50%) rotate(4550deg); position: absolute;'>be take</div><div style='top: 75%; left: 30%; font-size: 12pt; transform: translate(-50%, -50%) rotate(2250deg); position: absolute;'>be take</div><div style='top: 75%; left: 35%; font-size: 12pt; transform: translate(-50%, -50%) rotate(2625deg); position: absolute;'>be take</div><div style='top: 75%; left: 40%; font-size: 12pt; transform: translate(-50%, -50%) rotate(3000deg); position: absolute;'>be take</div><div style='top: 75%; left: 45%; font-size: 12pt; transform: translate(-50%, -50%) rotate(3375deg); position: absolute;'>be take</div><div style='top: 75%; left: 50%; font-size: 12pt; transform: translate(-50%, -50%) rotate(3750deg); position: absolute;'>be take</div><div style='top: 75%; left: 55%; font-size: 12pt; transform: translate(-50%, -50%) rotate(4125deg); position: absolute;'>be take</div><div style='top: 75%; left: 60%; font-size: 12pt; transform: translate(-50%, -50%) rotate(4500deg); position: absolute;'>be take</div><div style='top: 75%; left: 65%; font-size: 12pt; transform: translate(-50%, -50%) rotate(4875deg); position: absolute;'>be take</div>\n",
       "</body>\n",
       "</html>"
      ],
      "text/plain": [
       "<IPython.core.display.HTML object>"
      ]
     },
     "metadata": {
      "isolated": true
     },
     "output_type": "display_data"
    }
   ],
   "source": [
    "divs = []\n",
    "for i in range(0,100,5):\n",
    "    for j in range(0,96,8):\n",
    "        this_div = mkdiv(\"be have\",\n",
    "                         top=f\"{i}%\",\n",
    "                         left=f\"{j}%\",\n",
    "                         font_size=\"12pt\")\n",
    "        divs.append(this_div)\n",
    "\n",
    "divs.append(mkdiv(\"\",\n",
    "                 top = \"20%\",\n",
    "                 left = \"30%\",\n",
    "                 height = \"55%\",\n",
    "                 width = \"35%\",\n",
    "                 background_color = \"white\",\n",
    "                 border_radius = \"50%\"\n",
    "                 ))\n",
    "\n",
    "for i in range(20,80,5):\n",
    "    for j in range(30,70,5):\n",
    "        angle = i * j;\n",
    "        this_div = mkdiv(\"be take\",\n",
    "                        top=f\"{i}%\",\n",
    "                        left=f\"{j}%\",\n",
    "                        font_size=\"12pt\",\n",
    "                        transform=f\"translate(-50%, -50%) rotate({angle}deg)\")\n",
    "        divs.append(this_div)\n",
    "                        \n",
    "html_src = html_tmpl.format(title=\"benehmen/behavior\", content=\"\".join(divs))\n",
    "show_html(html_src)"
   ]
  },
  {
   "cell_type": "markdown",
   "metadata": {},
   "source": [
    "Here, \"be take\" interrupts the structure of having and behaving and creates a new, more dynamic structure that implies movement and relation. I thought about having the text grow more dense towards the center, suggesting the act of taking, absorbing, pulling, digesting, but in the end I preferred the visual simplicity of this arangement."
   ]
  },
  {
   "cell_type": "code",
   "execution_count": null,
   "metadata": {},
   "outputs": [],
   "source": []
  }
 ],
 "metadata": {
  "kernelspec": {
   "display_name": "Python 3",
   "language": "python",
   "name": "python3"
  },
  "language_info": {
   "codemirror_mode": {
    "name": "ipython",
    "version": 3
   },
   "file_extension": ".py",
   "mimetype": "text/x-python",
   "name": "python",
   "nbconvert_exporter": "python",
   "pygments_lexer": "ipython3",
   "version": "3.7.4"
  }
 },
 "nbformat": 4,
 "nbformat_minor": 2
}
